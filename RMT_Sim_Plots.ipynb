{
  "nbformat": 4,
  "nbformat_minor": 0,
  "metadata": {
    "colab": {
      "name": "RMT_Sim_Plots.ipynb",
      "provenance": [],
      "toc_visible": true,
      "authorship_tag": "ABX9TyNE70zCmnD0IYyAF7hNsoan",
      "include_colab_link": true
    },
    "kernelspec": {
      "name": "python3",
      "display_name": "Python 3"
    },
    "language_info": {
      "name": "python"
    },
    "widgets": {
      "application/vnd.jupyter.widget-state+json": {
        "26fdfafafa2145ccbb608185e8593786": {
          "model_module": "@jupyter-widgets/controls",
          "model_name": "VBoxModel",
          "state": {
            "_view_name": "VBoxView",
            "_dom_classes": [
              "widget-interact"
            ],
            "_model_name": "VBoxModel",
            "_view_module": "@jupyter-widgets/controls",
            "_model_module_version": "1.5.0",
            "_view_count": null,
            "_view_module_version": "1.5.0",
            "box_style": "",
            "layout": "IPY_MODEL_4edc9c271f1b4d9b986ac67433e2b967",
            "_model_module": "@jupyter-widgets/controls",
            "children": [
              "IPY_MODEL_e4ff7f1ef9704af8aeca3b0f0958c609",
              "IPY_MODEL_ebaee185aa4a4c81b51ec3cbdfdee60b",
              "IPY_MODEL_8d5c0063bbae4298a6b3ff751cab5ee9",
              "IPY_MODEL_8f7be9fc90b3405282d308526fbb2278",
              "IPY_MODEL_8c047f24fbeb4b4c9a02d736a716a9ac",
              "IPY_MODEL_17ce39092fd94943bda8fba545485093"
            ]
          }
        },
        "4edc9c271f1b4d9b986ac67433e2b967": {
          "model_module": "@jupyter-widgets/base",
          "model_name": "LayoutModel",
          "state": {
            "_view_name": "LayoutView",
            "grid_template_rows": null,
            "right": null,
            "justify_content": null,
            "_view_module": "@jupyter-widgets/base",
            "overflow": null,
            "_model_module_version": "1.2.0",
            "_view_count": null,
            "flex_flow": null,
            "width": null,
            "min_width": null,
            "border": null,
            "align_items": null,
            "bottom": null,
            "_model_module": "@jupyter-widgets/base",
            "top": null,
            "grid_column": null,
            "overflow_y": null,
            "overflow_x": null,
            "grid_auto_flow": null,
            "grid_area": null,
            "grid_template_columns": null,
            "flex": null,
            "_model_name": "LayoutModel",
            "justify_items": null,
            "grid_row": null,
            "max_height": null,
            "align_content": null,
            "visibility": null,
            "align_self": null,
            "height": null,
            "min_height": null,
            "padding": null,
            "grid_auto_rows": null,
            "grid_gap": null,
            "max_width": null,
            "order": null,
            "_view_module_version": "1.2.0",
            "grid_template_areas": null,
            "object_position": null,
            "object_fit": null,
            "grid_auto_columns": null,
            "margin": null,
            "display": null,
            "left": null
          }
        },
        "e4ff7f1ef9704af8aeca3b0f0958c609": {
          "model_module": "@jupyter-widgets/controls",
          "model_name": "SelectionSliderModel",
          "state": {
            "_options_labels": [
              "10",
              "20",
              "50"
            ],
            "_view_name": "SelectionSliderView",
            "style": "IPY_MODEL_f0141e6ef81740329f90821ab26b0c5b",
            "_dom_classes": [],
            "description": "n0",
            "_model_name": "SelectionSliderModel",
            "orientation": "horizontal",
            "index": 1,
            "_view_module": "@jupyter-widgets/controls",
            "_model_module_version": "1.5.0",
            "_view_count": null,
            "disabled": false,
            "_view_module_version": "1.5.0",
            "continuous_update": true,
            "description_tooltip": null,
            "readout": true,
            "_model_module": "@jupyter-widgets/controls",
            "layout": "IPY_MODEL_7052ca585852418ba3602779a204b1fa"
          }
        },
        "ebaee185aa4a4c81b51ec3cbdfdee60b": {
          "model_module": "@jupyter-widgets/controls",
          "model_name": "SelectionSliderModel",
          "state": {
            "_options_labels": [
              "10",
              "20",
              "50"
            ],
            "_view_name": "SelectionSliderView",
            "style": "IPY_MODEL_9e95ce0006184dcda53c34f2781d0ffa",
            "_dom_classes": [],
            "description": "n1",
            "_model_name": "SelectionSliderModel",
            "orientation": "horizontal",
            "index": 1,
            "_view_module": "@jupyter-widgets/controls",
            "_model_module_version": "1.5.0",
            "_view_count": null,
            "disabled": false,
            "_view_module_version": "1.5.0",
            "continuous_update": true,
            "description_tooltip": null,
            "readout": true,
            "_model_module": "@jupyter-widgets/controls",
            "layout": "IPY_MODEL_1d74e10f2f5e4003b6da3d6cbab759a6"
          }
        },
        "8d5c0063bbae4298a6b3ff751cab5ee9": {
          "model_module": "@jupyter-widgets/controls",
          "model_name": "SelectionSliderModel",
          "state": {
            "_options_labels": [
              "10",
              "20",
              "50"
            ],
            "_view_name": "SelectionSliderView",
            "style": "IPY_MODEL_3535491b4e4a49a6b47baca321dc6c7f",
            "_dom_classes": [],
            "description": "n2",
            "_model_name": "SelectionSliderModel",
            "orientation": "horizontal",
            "index": 1,
            "_view_module": "@jupyter-widgets/controls",
            "_model_module_version": "1.5.0",
            "_view_count": null,
            "disabled": false,
            "_view_module_version": "1.5.0",
            "continuous_update": true,
            "description_tooltip": null,
            "readout": true,
            "_model_module": "@jupyter-widgets/controls",
            "layout": "IPY_MODEL_72a2e31368af41fd8d05c4570cec5d50"
          }
        },
        "8f7be9fc90b3405282d308526fbb2278": {
          "model_module": "@jupyter-widgets/controls",
          "model_name": "SelectionSliderModel",
          "state": {
            "_options_labels": [
              "10",
              "50",
              "200"
            ],
            "_view_name": "SelectionSliderView",
            "style": "IPY_MODEL_47ee584992cb415c85421862d41ac9d5",
            "_dom_classes": [],
            "description": "m",
            "_model_name": "SelectionSliderModel",
            "orientation": "horizontal",
            "index": 1,
            "_view_module": "@jupyter-widgets/controls",
            "_model_module_version": "1.5.0",
            "_view_count": null,
            "disabled": false,
            "_view_module_version": "1.5.0",
            "continuous_update": true,
            "description_tooltip": null,
            "readout": true,
            "_model_module": "@jupyter-widgets/controls",
            "layout": "IPY_MODEL_9fc9f5fbc0ed4f90975e4674d64d0d2d"
          }
        },
        "8c047f24fbeb4b4c9a02d736a716a9ac": {
          "model_module": "@jupyter-widgets/controls",
          "model_name": "SelectionSliderModel",
          "state": {
            "_options_labels": [
              "0",
              "10",
              "100",
              "1000",
              "2500",
              "5000",
              "10000"
            ],
            "_view_name": "SelectionSliderView",
            "style": "IPY_MODEL_36cefc02d9244a18a454a244c9bc0fe4",
            "_dom_classes": [],
            "description": "num_iters",
            "_model_name": "SelectionSliderModel",
            "orientation": "horizontal",
            "index": 4,
            "_view_module": "@jupyter-widgets/controls",
            "_model_module_version": "1.5.0",
            "_view_count": null,
            "disabled": false,
            "_view_module_version": "1.5.0",
            "continuous_update": true,
            "description_tooltip": null,
            "readout": true,
            "_model_module": "@jupyter-widgets/controls",
            "layout": "IPY_MODEL_028a0343cfce4899a6f7a5fed5a1ee32"
          }
        },
        "17ce39092fd94943bda8fba545485093": {
          "model_module": "@jupyter-widgets/output",
          "model_name": "OutputModel",
          "state": {
            "_view_name": "OutputView",
            "msg_id": "",
            "_dom_classes": [],
            "_model_name": "OutputModel",
            "outputs": [
              {
                "output_type": "stream",
                "metadata": {
                  "tags": []
                },
                "text": "updating the plot with n0 = 20, n1 = 20, n2 = 20, m = 50, num_iters = 2500\n",
                "stream": "stdout"
              },
              {
                "output_type": "display_data",
                "metadata": {
                  "tags": [],
                  "needs_background": "light"
                },
                "image/png": "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\n",
                "text/plain": "<Figure size 432x288 with 1 Axes>"
              },
              {
                "output_type": "display_data",
                "metadata": {
                  "tags": [],
                  "needs_background": "light"
                },
                "image/png": "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\n",
                "text/plain": "<Figure size 432x288 with 1 Axes>"
              },
              {
                "output_type": "display_data",
                "metadata": {
                  "tags": [],
                  "needs_background": "light"
                },
                "image/png": "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\n",
                "text/plain": "<Figure size 432x288 with 1 Axes>"
              },
              {
                "output_type": "display_data",
                "metadata": {
                  "tags": [],
                  "needs_background": "light"
                },
                "image/png": "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\n",
                "text/plain": "<Figure size 432x288 with 1 Axes>"
              }
            ],
            "_view_module": "@jupyter-widgets/output",
            "_model_module_version": "1.0.0",
            "_view_count": null,
            "_view_module_version": "1.0.0",
            "layout": "IPY_MODEL_2f00ed656b864a06924784080b9e381d",
            "_model_module": "@jupyter-widgets/output"
          }
        },
        "f0141e6ef81740329f90821ab26b0c5b": {
          "model_module": "@jupyter-widgets/controls",
          "model_name": "DescriptionStyleModel",
          "state": {
            "_view_name": "StyleView",
            "_model_name": "DescriptionStyleModel",
            "description_width": "",
            "_view_module": "@jupyter-widgets/base",
            "_model_module_version": "1.5.0",
            "_view_count": null,
            "_view_module_version": "1.2.0",
            "_model_module": "@jupyter-widgets/controls"
          }
        },
        "7052ca585852418ba3602779a204b1fa": {
          "model_module": "@jupyter-widgets/base",
          "model_name": "LayoutModel",
          "state": {
            "_view_name": "LayoutView",
            "grid_template_rows": null,
            "right": null,
            "justify_content": null,
            "_view_module": "@jupyter-widgets/base",
            "overflow": null,
            "_model_module_version": "1.2.0",
            "_view_count": null,
            "flex_flow": null,
            "width": null,
            "min_width": null,
            "border": null,
            "align_items": null,
            "bottom": null,
            "_model_module": "@jupyter-widgets/base",
            "top": null,
            "grid_column": null,
            "overflow_y": null,
            "overflow_x": null,
            "grid_auto_flow": null,
            "grid_area": null,
            "grid_template_columns": null,
            "flex": null,
            "_model_name": "LayoutModel",
            "justify_items": null,
            "grid_row": null,
            "max_height": null,
            "align_content": null,
            "visibility": null,
            "align_self": null,
            "height": null,
            "min_height": null,
            "padding": null,
            "grid_auto_rows": null,
            "grid_gap": null,
            "max_width": null,
            "order": null,
            "_view_module_version": "1.2.0",
            "grid_template_areas": null,
            "object_position": null,
            "object_fit": null,
            "grid_auto_columns": null,
            "margin": null,
            "display": null,
            "left": null
          }
        },
        "9e95ce0006184dcda53c34f2781d0ffa": {
          "model_module": "@jupyter-widgets/controls",
          "model_name": "DescriptionStyleModel",
          "state": {
            "_view_name": "StyleView",
            "_model_name": "DescriptionStyleModel",
            "description_width": "",
            "_view_module": "@jupyter-widgets/base",
            "_model_module_version": "1.5.0",
            "_view_count": null,
            "_view_module_version": "1.2.0",
            "_model_module": "@jupyter-widgets/controls"
          }
        },
        "1d74e10f2f5e4003b6da3d6cbab759a6": {
          "model_module": "@jupyter-widgets/base",
          "model_name": "LayoutModel",
          "state": {
            "_view_name": "LayoutView",
            "grid_template_rows": null,
            "right": null,
            "justify_content": null,
            "_view_module": "@jupyter-widgets/base",
            "overflow": null,
            "_model_module_version": "1.2.0",
            "_view_count": null,
            "flex_flow": null,
            "width": null,
            "min_width": null,
            "border": null,
            "align_items": null,
            "bottom": null,
            "_model_module": "@jupyter-widgets/base",
            "top": null,
            "grid_column": null,
            "overflow_y": null,
            "overflow_x": null,
            "grid_auto_flow": null,
            "grid_area": null,
            "grid_template_columns": null,
            "flex": null,
            "_model_name": "LayoutModel",
            "justify_items": null,
            "grid_row": null,
            "max_height": null,
            "align_content": null,
            "visibility": null,
            "align_self": null,
            "height": null,
            "min_height": null,
            "padding": null,
            "grid_auto_rows": null,
            "grid_gap": null,
            "max_width": null,
            "order": null,
            "_view_module_version": "1.2.0",
            "grid_template_areas": null,
            "object_position": null,
            "object_fit": null,
            "grid_auto_columns": null,
            "margin": null,
            "display": null,
            "left": null
          }
        },
        "3535491b4e4a49a6b47baca321dc6c7f": {
          "model_module": "@jupyter-widgets/controls",
          "model_name": "DescriptionStyleModel",
          "state": {
            "_view_name": "StyleView",
            "_model_name": "DescriptionStyleModel",
            "description_width": "",
            "_view_module": "@jupyter-widgets/base",
            "_model_module_version": "1.5.0",
            "_view_count": null,
            "_view_module_version": "1.2.0",
            "_model_module": "@jupyter-widgets/controls"
          }
        },
        "72a2e31368af41fd8d05c4570cec5d50": {
          "model_module": "@jupyter-widgets/base",
          "model_name": "LayoutModel",
          "state": {
            "_view_name": "LayoutView",
            "grid_template_rows": null,
            "right": null,
            "justify_content": null,
            "_view_module": "@jupyter-widgets/base",
            "overflow": null,
            "_model_module_version": "1.2.0",
            "_view_count": null,
            "flex_flow": null,
            "width": null,
            "min_width": null,
            "border": null,
            "align_items": null,
            "bottom": null,
            "_model_module": "@jupyter-widgets/base",
            "top": null,
            "grid_column": null,
            "overflow_y": null,
            "overflow_x": null,
            "grid_auto_flow": null,
            "grid_area": null,
            "grid_template_columns": null,
            "flex": null,
            "_model_name": "LayoutModel",
            "justify_items": null,
            "grid_row": null,
            "max_height": null,
            "align_content": null,
            "visibility": null,
            "align_self": null,
            "height": null,
            "min_height": null,
            "padding": null,
            "grid_auto_rows": null,
            "grid_gap": null,
            "max_width": null,
            "order": null,
            "_view_module_version": "1.2.0",
            "grid_template_areas": null,
            "object_position": null,
            "object_fit": null,
            "grid_auto_columns": null,
            "margin": null,
            "display": null,
            "left": null
          }
        },
        "47ee584992cb415c85421862d41ac9d5": {
          "model_module": "@jupyter-widgets/controls",
          "model_name": "DescriptionStyleModel",
          "state": {
            "_view_name": "StyleView",
            "_model_name": "DescriptionStyleModel",
            "description_width": "",
            "_view_module": "@jupyter-widgets/base",
            "_model_module_version": "1.5.0",
            "_view_count": null,
            "_view_module_version": "1.2.0",
            "_model_module": "@jupyter-widgets/controls"
          }
        },
        "9fc9f5fbc0ed4f90975e4674d64d0d2d": {
          "model_module": "@jupyter-widgets/base",
          "model_name": "LayoutModel",
          "state": {
            "_view_name": "LayoutView",
            "grid_template_rows": null,
            "right": null,
            "justify_content": null,
            "_view_module": "@jupyter-widgets/base",
            "overflow": null,
            "_model_module_version": "1.2.0",
            "_view_count": null,
            "flex_flow": null,
            "width": null,
            "min_width": null,
            "border": null,
            "align_items": null,
            "bottom": null,
            "_model_module": "@jupyter-widgets/base",
            "top": null,
            "grid_column": null,
            "overflow_y": null,
            "overflow_x": null,
            "grid_auto_flow": null,
            "grid_area": null,
            "grid_template_columns": null,
            "flex": null,
            "_model_name": "LayoutModel",
            "justify_items": null,
            "grid_row": null,
            "max_height": null,
            "align_content": null,
            "visibility": null,
            "align_self": null,
            "height": null,
            "min_height": null,
            "padding": null,
            "grid_auto_rows": null,
            "grid_gap": null,
            "max_width": null,
            "order": null,
            "_view_module_version": "1.2.0",
            "grid_template_areas": null,
            "object_position": null,
            "object_fit": null,
            "grid_auto_columns": null,
            "margin": null,
            "display": null,
            "left": null
          }
        },
        "36cefc02d9244a18a454a244c9bc0fe4": {
          "model_module": "@jupyter-widgets/controls",
          "model_name": "DescriptionStyleModel",
          "state": {
            "_view_name": "StyleView",
            "_model_name": "DescriptionStyleModel",
            "description_width": "",
            "_view_module": "@jupyter-widgets/base",
            "_model_module_version": "1.5.0",
            "_view_count": null,
            "_view_module_version": "1.2.0",
            "_model_module": "@jupyter-widgets/controls"
          }
        },
        "028a0343cfce4899a6f7a5fed5a1ee32": {
          "model_module": "@jupyter-widgets/base",
          "model_name": "LayoutModel",
          "state": {
            "_view_name": "LayoutView",
            "grid_template_rows": null,
            "right": null,
            "justify_content": null,
            "_view_module": "@jupyter-widgets/base",
            "overflow": null,
            "_model_module_version": "1.2.0",
            "_view_count": null,
            "flex_flow": null,
            "width": null,
            "min_width": null,
            "border": null,
            "align_items": null,
            "bottom": null,
            "_model_module": "@jupyter-widgets/base",
            "top": null,
            "grid_column": null,
            "overflow_y": null,
            "overflow_x": null,
            "grid_auto_flow": null,
            "grid_area": null,
            "grid_template_columns": null,
            "flex": null,
            "_model_name": "LayoutModel",
            "justify_items": null,
            "grid_row": null,
            "max_height": null,
            "align_content": null,
            "visibility": null,
            "align_self": null,
            "height": null,
            "min_height": null,
            "padding": null,
            "grid_auto_rows": null,
            "grid_gap": null,
            "max_width": null,
            "order": null,
            "_view_module_version": "1.2.0",
            "grid_template_areas": null,
            "object_position": null,
            "object_fit": null,
            "grid_auto_columns": null,
            "margin": null,
            "display": null,
            "left": null
          }
        },
        "2f00ed656b864a06924784080b9e381d": {
          "model_module": "@jupyter-widgets/base",
          "model_name": "LayoutModel",
          "state": {
            "_view_name": "LayoutView",
            "grid_template_rows": null,
            "right": null,
            "justify_content": null,
            "_view_module": "@jupyter-widgets/base",
            "overflow": null,
            "_model_module_version": "1.2.0",
            "_view_count": null,
            "flex_flow": null,
            "width": null,
            "min_width": null,
            "border": null,
            "align_items": null,
            "bottom": null,
            "_model_module": "@jupyter-widgets/base",
            "top": null,
            "grid_column": null,
            "overflow_y": null,
            "overflow_x": null,
            "grid_auto_flow": null,
            "grid_area": null,
            "grid_template_columns": null,
            "flex": null,
            "_model_name": "LayoutModel",
            "justify_items": null,
            "grid_row": null,
            "max_height": null,
            "align_content": null,
            "visibility": null,
            "align_self": null,
            "height": null,
            "min_height": null,
            "padding": null,
            "grid_auto_rows": null,
            "grid_gap": null,
            "max_width": null,
            "order": null,
            "_view_module_version": "1.2.0",
            "grid_template_areas": null,
            "object_position": null,
            "object_fit": null,
            "grid_auto_columns": null,
            "margin": null,
            "display": null,
            "left": null
          }
        }
      }
    }
  },
  "cells": [
    {
      "cell_type": "markdown",
      "metadata": {
        "id": "view-in-github",
        "colab_type": "text"
      },
      "source": [
        "<a href=\"https://colab.research.google.com/github/RiaStevens/rmt-research/blob/main/RMT_Sim_Plots.ipynb\" target=\"_parent\"><img src=\"https://colab.research.google.com/assets/colab-badge.svg\" alt=\"Open In Colab\"/></a>"
      ]
    },
    {
      "cell_type": "markdown",
      "metadata": {
        "id": "gfYAcVEqG-rh"
      },
      "source": [
        "# Random Matrix Theory Simulations with Neural Networks"
      ]
    },
    {
      "cell_type": "markdown",
      "metadata": {
        "id": "1b_iIGMBHZW5"
      },
      "source": [
        "Within this Jupyter notebook, we analyze the eigenvalue structure of the Hessians of a single-ReLU layer neural network throughout gradient descent and how this relates to its loss. For quick results, run \"Imports\" and \"Key Function Definitions\" as sections before plotting."
      ]
    },
    {
      "cell_type": "markdown",
      "metadata": {
        "id": "O7qrrbGwI7Bl"
      },
      "source": [
        "We set up our neural network using the following parameters:\n",
        "* $n_0$ represents the number of parameters in the input layer. This is customizable.\n",
        "* $n_1$ represents the size of the hidden ReLU layer. This is customizable.\n",
        "* $n_2$ represents the size of the output layer. This is customizable.\n",
        "* $m$ represents the number of data points passed into the neural network. This is customizable.\n",
        "* $W^{(1)}$ represents the first weight matrix in the network. It is a $n_1$ x $n_0$ matrix with each entry being Gaussian with mean 0 and variance $\\sigma^2$ at initialization. \n",
        "* $W^{(2)}$ represents the second weight matrix in the network. It is a $n_2$ x $n_1$ matrix with each entry being Gaussian with mean 0 and variance $\\sigma^2$ at initialization. \n",
        "* $x$ represents our input data. It is an $n_0$ x $m$ matrix with Gaussian entries with mean 0 and variance $\\sigma^2$.\n",
        "* $y$ represents our target data. It is an $n_2$ x $m$ matrix with Gaussian entries with mean 0 and variance $\\sigma^2$."
      ]
    },
    {
      "cell_type": "markdown",
      "metadata": {
        "id": "dgKKgMHeMDKa"
      },
      "source": [
        "To generate predictions given $W^{(1)}$ and $W^{(2)}$ at some time t, we define $z = W_1x$ and $[A_{xy}]_+ = \\text{max}(A_{xy}, 0)$ as our ReLU function, where $A$ is any matrix. This gives us the following output, $\\hat{y}$:\n",
        "\\begin{equation}\n",
        "  \\hat{y}_{i\\mu} =  \\sum_{k=1}^{n_1} W^{(2)}_{ik} [z_{k\\mu}]_+\n",
        "\\end{equation}\n",
        "Using $\\hat{y}$, we define $e = \\hat{y} - y$ and continue by defining our loss function, $\\mathcal{L}$, as the mean squared error using $e$:\n",
        "\\begin{equation}\n",
        "  \\mathcal{L} = \\frac{1}{2m} \\|e\\|^2 =  \\frac{1}{2m} \\sum_{i, \\mu=1}^{n_2, m} e_{iu}^2 \n",
        "\\end{equation}"
      ]
    },
    {
      "cell_type": "markdown",
      "metadata": {
        "id": "cvp0i6k4TbV6"
      },
      "source": [
        "# Imports"
      ]
    },
    {
      "cell_type": "code",
      "metadata": {
        "id": "qAgzpeLVKx66"
      },
      "source": [
        "import numpy as np\n",
        "import itertools\n",
        "import matplotlib.pyplot as plt\n",
        "import numpy.linalg as npla\n",
        "from scipy.optimize import curve_fit\n",
        "from ipywidgets import widgets, interactive\n",
        "from IPython.utils import io"
      ],
      "execution_count": 69,
      "outputs": []
    },
    {
      "cell_type": "markdown",
      "metadata": {
        "id": "vUgi7TIHTfmg"
      },
      "source": [
        "# Key Function Definitions"
      ]
    },
    {
      "cell_type": "markdown",
      "metadata": {
        "id": "TpvLUcpVO3ma"
      },
      "source": [
        "## Simulation Definitions"
      ]
    },
    {
      "cell_type": "code",
      "metadata": {
        "id": "1dXYStWPLPi3"
      },
      "source": [
        "def gradient(x, W_2, e, prop):\n",
        "  (n2, n1) = W_2.shape\n",
        "  (n0, m) = x.shape\n",
        "\n",
        "  J_1 = np.tensordot(W_2, x, axes=0)\n",
        "  for a, u in itertools.product(range(n1), range(m)):\n",
        "    if prop[a, u] == 0:\n",
        "      J_1[0:n2, a, 0:n0, u] = 0\n",
        "\n",
        "  J_2 = np.tensordot(np.ones((n2, n2)), prop, axes=0)\n",
        "\n",
        "  A=np.einsum('iu,iabu->ab',e,J_1)/m\n",
        "  B=np.einsum('iu,icdu->cd',e,J_2)/m\n",
        "  return A, B"
      ],
      "execution_count": 70,
      "outputs": []
    },
    {
      "cell_type": "code",
      "metadata": {
        "id": "XCnq5ldILjTb"
      },
      "source": [
        "def gradient_descent(W1, W2, x, y, num_iters, step, prop, e, id):\n",
        "  (n2, n1) = W2.shape\n",
        "  (n0, m) = x.shape\n",
        "\n",
        "  losses = np.empty(0)\n",
        "  for j in range(num_iters):\n",
        "    G1, G2 = gradient(x, W2, e, prop)\n",
        "    W1 = W1 - G1 * step\n",
        "    W2 = W2 - G2 * step\n",
        "    \n",
        "    z = W1 @ x\n",
        "    prop = np.maximum(z, np.zeros_like(z))\n",
        "    y_hat = W2 @ prop\n",
        "    e = y_hat - y\n",
        "\n",
        "    loss = npla.norm(e) ** 2 / (2 * m)\n",
        "    losses = np.append(losses, loss)\n",
        "    \n",
        "  return W1, W2, losses, e, prop"
      ],
      "execution_count": 71,
      "outputs": []
    },
    {
      "cell_type": "code",
      "metadata": {
        "id": "k6_AZxvvMcc9"
      },
      "source": [
        "def hessian(W1, W2, x, y, l, l0):\n",
        "  (n2, n1) = W2.shape\n",
        "  (n0, m) = x.shape\n",
        "\n",
        "  z = W1 @ x\n",
        "  prop = np.maximum(z, np.zeros_like(z))\n",
        "  y_hat = W2 @ prop\n",
        "  e = y_hat - y \n",
        "\n",
        "  def compute_H0():\n",
        "    J_1 = np.tensordot(W2, x, axes=0)\n",
        "    for a, u in itertools.product(range(n1), range(m)):\n",
        "      if prop[a, u] == 0:\n",
        "        J_1[0:n2, a, 0:n0, u] = 0\n",
        "\n",
        "    J_2 = np.tensordot(np.ones((n2, n2)), prop, axes=0)\n",
        "\n",
        "    H_0_tl = np.einsum('xaby,xcdy->abcd', J_1, J_1)\n",
        "    H_0_tl_flat = H_0_tl.reshape((n1 * n0, n1 * n0))\n",
        "\n",
        "    H_0_tr = np.einsum('xaby,xcdy->abcd', J_1, J_2)\n",
        "    H_0_tr_flat = H_0_tr.reshape((n1 * n0, n1 * n2))\n",
        "\n",
        "    H_0_bl = np.einsum('xcdy,xaby->cdab', J_2, J_1)\n",
        "    H_0_bl_flat = H_0_bl.reshape((n1 * n2, n1 * n0))\n",
        "\n",
        "    H_0_br = np.einsum('xaby,xcdy->abcd', J_2, J_2)\n",
        "    H_0_br_flat = H_0_br.reshape((n1 * n2, n1 * n2))\n",
        "\n",
        "    H_0 = np.block([[H_0_tl_flat, H_0_tr_flat], [H_0_bl_flat, H_0_br_flat]])\n",
        "    return H_0\n",
        "\n",
        "  def compute_H1():\n",
        "    H_1_tl = np.zeros((n1 * n0, n1 * n0))\n",
        "\n",
        "    H_1_tr = np.zeros((n0 * n1, n1 * n2))\n",
        "    for q, p in itertools.product(range(n0 * n1), range(n1 * n2)):\n",
        "      a = int(q / n0)\n",
        "      b = q % n0\n",
        "      c = int(p / n1)\n",
        "      d = p % n1\n",
        "\n",
        "      if a == d:\n",
        "        e_masked = np.where(prop[a] > 0, e[c], 0)\n",
        "        H_1_tr[q][p] = e_masked @ x[b]\n",
        "\n",
        "    H_1_br = np.zeros((n1 * n2, n1 * n2))\n",
        "\n",
        "    H_1_bl = H_1_tr.transpose()\n",
        "\n",
        "    H_1 = np.block([[H_1_tl, H_1_tr], [H_1_bl, H_1_br]])\n",
        "    return H_1 / m * np.sqrt(l / l0)\n",
        "\n",
        "  H0, H1 = compute_H0(), compute_H1()\n",
        "  H = H0 + H1\n",
        "\n",
        "  return H0, H1, H"
      ],
      "execution_count": 72,
      "outputs": []
    },
    {
      "cell_type": "code",
      "metadata": {
        "id": "a85GIv5XPQky"
      },
      "source": [
        "def run_gd(n0, n1, n2, m, sigma, num_iters):\n",
        "  W1 = np.random.randn(n1, n0) * sigma\n",
        "  W2 = np.random.randn(n2, n1) * sigma\n",
        "\n",
        "  x = np.random.randn(n0, m) * sigma\n",
        "  y = np.random.randn(n2, m) * sigma\n",
        "\n",
        "  z = W1 @ x\n",
        "  prop = np.maximum(z, np.zeros_like(z))\n",
        "  y_hat = W2 @ prop\n",
        "  e = y_hat - y\n",
        "\n",
        "  step = 0.0005\n",
        "\n",
        "  W1_gd, W2_gd, losses, e_gd, prop_gd = gradient_descent(W1, W2, x, y, num_iters, step, prop, e,1)\n",
        "\n",
        "  return losses, W1_gd, W2_gd, x, y"
      ],
      "execution_count": 73,
      "outputs": []
    },
    {
      "cell_type": "code",
      "metadata": {
        "id": "yVbB6bRlJXKv"
      },
      "source": [
        "def run_sim(n0, n1, n2, m, sigma, num_runs):\n",
        "  num_iters = 5000\n",
        "  H0_eigs_arr, H1_eigs_arr, H_eigs_arr = np.empty(0), np.empty(0), np.empty(0)\n",
        "  phi = ((n0 + n2) * n1) / (n2 * m)\n",
        "      \n",
        "  loss_array = np.empty((num_runs, num_iters))\n",
        "  for j in range(0, num_runs):\n",
        "    losses, W1, W2, x, y = run_gd(n0, n1, n2, m, sigma, num_iters)\n",
        "\n",
        "    # find hessians of W1, W2\n",
        "    H0, H1, H = hessian(W1, W2, x, y, losses[-1], losses[0])\n",
        "    eigs_H0, eigs_H1, eigs_H = npla.eigvalsh(H0), npla.eigvalsh(H1), npla.eigvalsh(H)\n",
        "\n",
        "    H0_eigs_arr = np.concatenate((H0_eigs_arr, eigs_H0), axis=None)\n",
        "    H1_eigs_arr = np.concatenate((H1_eigs_arr, eigs_H1), axis=None)\n",
        "    H_eigs_arr = np.concatenate((H_eigs_arr, eigs_H), axis=None)\n",
        "    \n",
        "    loss_array[j] = losses\n",
        "  return H0_eigs_arr, H1_eigs_arr, H_eigs_arr, loss_array"
      ],
      "execution_count": 74,
      "outputs": []
    },
    {
      "cell_type": "markdown",
      "metadata": {
        "id": "aqHdSrtMOpsP"
      },
      "source": [
        "## Plot Definitions"
      ]
    },
    {
      "cell_type": "code",
      "metadata": {
        "id": "5DVe-OwhGAaO"
      },
      "source": [
        "def plot_losses(losses, phi, num_iters, num_runs):\n",
        "  mean_losses = np.average(losses, axis = 0)\n",
        "  std_losses = np.std(losses, axis=0)\n",
        "  ci = 1.96 * std_losses / np.sqrt(num_runs)\n",
        "  \n",
        "  plt.yscale('log')\n",
        "  plt.title('Loss Function throughout Gradient Descent')\n",
        "  plt.ylabel('Loss')\n",
        "  plt.xlabel('Epoch')\n",
        "\n",
        "  plt.plot(np.arange(1, len(mean_losses) + 1), mean_losses, label='$\\phi$ = '+ str(round(phi, 1)))\n",
        "  plt.fill_between(np.arange(1, len(mean_losses) + 1), mean_losses + ci, mean_losses - ci, alpha=.2)\n",
        "  plt.annotate(mean_losses[num_iters - 1], (num_iters - 1, mean_losses[num_iters - 1]))\n",
        "  plt.legend()\n",
        "  plt.show()"
      ],
      "execution_count": 75,
      "outputs": []
    },
    {
      "cell_type": "code",
      "metadata": {
        "id": "BwxqRSod93oZ"
      },
      "source": [
        "def plot_eigs(H0_eigs, H1_eigs, H_eigs):\n",
        "  plt.title(\"H0's Eigenvalues\")\n",
        "  plt.ylabel('Density')\n",
        "  plt.xlabel('Eigenvalue')\n",
        "  plt.hist(H0_eigs[(abs(H0_eigs) < 100) & (abs(H0_eigs) > 0.01)], bins=50, density=True, ec='black')\n",
        "  plt.show()\n",
        "  \n",
        "  plt.title(\"H1's Eigenvalues\")\n",
        "  plt.ylabel('Density')\n",
        "  plt.xlabel('Eigenvalue')\n",
        "  plt.hist(H1_eigs[(abs(H1_eigs) < 100) & (abs(H1_eigs) > 0.0001)], bins=50, density=True, ec='black')\n",
        "  plt.show()\n",
        "\n",
        "  plt.title(\"H's Eigenvalues\")\n",
        "  plt.ylabel('Density')\n",
        "  plt.xlabel('Eigenvalue')\n",
        "  plt.hist(H_eigs[(abs(H_eigs) < 100) & (abs(H_eigs) > 0.0001)], bins=50, density=True, ec='black')\n",
        "  plt.show()"
      ],
      "execution_count": 76,
      "outputs": []
    },
    {
      "cell_type": "markdown",
      "metadata": {
        "id": "h2laXbryLr2L"
      },
      "source": [
        "# Plotting"
      ]
    },
    {
      "cell_type": "code",
      "metadata": {
        "colab": {
          "base_uri": "https://localhost:8080/",
          "height": 1000,
          "referenced_widgets": [
            "26fdfafafa2145ccbb608185e8593786",
            "4edc9c271f1b4d9b986ac67433e2b967",
            "e4ff7f1ef9704af8aeca3b0f0958c609",
            "ebaee185aa4a4c81b51ec3cbdfdee60b",
            "8d5c0063bbae4298a6b3ff751cab5ee9",
            "8f7be9fc90b3405282d308526fbb2278",
            "8c047f24fbeb4b4c9a02d736a716a9ac",
            "17ce39092fd94943bda8fba545485093",
            "f0141e6ef81740329f90821ab26b0c5b",
            "7052ca585852418ba3602779a204b1fa",
            "9e95ce0006184dcda53c34f2781d0ffa",
            "1d74e10f2f5e4003b6da3d6cbab759a6",
            "3535491b4e4a49a6b47baca321dc6c7f",
            "72a2e31368af41fd8d05c4570cec5d50",
            "47ee584992cb415c85421862d41ac9d5",
            "9fc9f5fbc0ed4f90975e4674d64d0d2d",
            "36cefc02d9244a18a454a244c9bc0fe4",
            "028a0343cfce4899a6f7a5fed5a1ee32",
            "2f00ed656b864a06924784080b9e381d"
          ]
        },
        "id": "kCi0k8N0xHrH",
        "outputId": "858a76ac-57dc-456a-a766-c21c07ef53f3"
      },
      "source": [
        "n0_widget = widgets.SelectionSlider(options=[10, 20, 50], \n",
        "                             value=20, \n",
        "                             description='n0', \n",
        "                             disabled=False, \n",
        "                             continuous_update=True, \n",
        "                             orientation='horizontal', \n",
        "                             readout=True)\n",
        "n1_widget = widgets.SelectionSlider(options=[10, 20, 50], \n",
        "                             value=20, \n",
        "                             description='n1', \n",
        "                             disabled=False, \n",
        "                             continuous_update=True, \n",
        "                             orientation='horizontal', \n",
        "                             readout=True)\n",
        "n2_widget = widgets.SelectionSlider(options=[10, 20, 50], \n",
        "                             value=20, \n",
        "                             description='n2', \n",
        "                             disabled=False, \n",
        "                             continuous_update=True, \n",
        "                             orientation='horizontal', \n",
        "                             readout=True)\n",
        "m_widget = widgets.SelectionSlider(options=[10, 50, 200], \n",
        "                             value=50, \n",
        "                             description='m', \n",
        "                             disabled=False, \n",
        "                             continuous_update=True, \n",
        "                             orientation='horizontal', \n",
        "                             readout=True)\n",
        "num_iters_widget = widgets.SelectionSlider(options=[0, 10, 100, 1000, 2500, 5000, 10000], \n",
        "                             value=2500, \n",
        "                             description='num_iters', \n",
        "                             disabled=False, \n",
        "                             continuous_update=True, \n",
        "                             orientation='horizontal', \n",
        "                             readout=True)\n",
        "\n",
        "def plot_it(n0, n1, n2, m, num_iters):\n",
        "  string = f'n0 = {n0}, n1 = {n1}, n2 = {n2}, m = {m}, num_iters = {num_iters}'\n",
        "  print('updating the plot with ' + string)\n",
        "\n",
        "  sigma = 1\n",
        "  num_runs = 2\n",
        "  H0_eigs, H1_eigs, H_eigs, losses = run_sim(n0, n1, n2, m, sigma, num_runs)\n",
        "\n",
        "  phi = ((n0 + n2) * n1) / (n2 * m)\n",
        "  plot_losses(losses, phi, num_iters, num_runs)\n",
        "  plot_eigs(H0_eigs, H1_eigs, H_eigs)\n",
        "\n",
        "interactive(plot_it, n0=n0_widget, n1=n1_widget, n2=n2_widget, m=m_widget, num_iters=num_iters_widget)"
      ],
      "execution_count": 77,
      "outputs": [
        {
          "output_type": "display_data",
          "data": {
            "application/vnd.jupyter.widget-view+json": {
              "model_id": "26fdfafafa2145ccbb608185e8593786",
              "version_minor": 0,
              "version_major": 2
            },
            "text/plain": [
              "interactive(children=(SelectionSlider(description='n0', index=1, options=(10, 20, 50), value=20), SelectionSli…"
            ]
          },
          "metadata": {
            "tags": []
          }
        }
      ]
    }
  ]
}