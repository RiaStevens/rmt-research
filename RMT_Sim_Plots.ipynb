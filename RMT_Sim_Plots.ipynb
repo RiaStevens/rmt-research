{
  "nbformat": 4,
  "nbformat_minor": 0,
  "metadata": {
    "colab": {
      "name": "RMT_Sim_Plots.ipynb",
      "provenance": [],
      "toc_visible": true,
      "authorship_tag": "ABX9TyOtXjeZzCg4Q71XJJ4Rpr9k",
      "include_colab_link": true
    },
    "kernelspec": {
      "name": "python3",
      "display_name": "Python 3"
    },
    "language_info": {
      "name": "python"
    },
    "widgets": {
      "application/vnd.jupyter.widget-state+json": {
        "de0c2eda0b78422ba2600c7858b93272": {
          "model_module": "@jupyter-widgets/controls",
          "model_name": "VBoxModel",
          "state": {
            "_view_name": "VBoxView",
            "_dom_classes": [
              "widget-interact"
            ],
            "_model_name": "VBoxModel",
            "_view_module": "@jupyter-widgets/controls",
            "_model_module_version": "1.5.0",
            "_view_count": null,
            "_view_module_version": "1.5.0",
            "box_style": "",
            "layout": "IPY_MODEL_22b61535a65d4671acc5b71a53667a3d",
            "_model_module": "@jupyter-widgets/controls",
            "children": [
              "IPY_MODEL_e838b76fcd7f4ac4a0dafeacbd2d2e22",
              "IPY_MODEL_96fccb19d0434929abfa260820d2c266",
              "IPY_MODEL_a537e329cba54172a94c5a2b328ef42c",
              "IPY_MODEL_95958bb823294d7aa7bc6d98a7aa3138",
              "IPY_MODEL_f5431dfccf0d47b2a150378df7e193a0",
              "IPY_MODEL_6011701919684c5bb8d988ea193560bb"
            ]
          }
        },
        "22b61535a65d4671acc5b71a53667a3d": {
          "model_module": "@jupyter-widgets/base",
          "model_name": "LayoutModel",
          "state": {
            "_view_name": "LayoutView",
            "grid_template_rows": null,
            "right": null,
            "justify_content": null,
            "_view_module": "@jupyter-widgets/base",
            "overflow": null,
            "_model_module_version": "1.2.0",
            "_view_count": null,
            "flex_flow": null,
            "width": null,
            "min_width": null,
            "border": null,
            "align_items": null,
            "bottom": null,
            "_model_module": "@jupyter-widgets/base",
            "top": null,
            "grid_column": null,
            "overflow_y": null,
            "overflow_x": null,
            "grid_auto_flow": null,
            "grid_area": null,
            "grid_template_columns": null,
            "flex": null,
            "_model_name": "LayoutModel",
            "justify_items": null,
            "grid_row": null,
            "max_height": null,
            "align_content": null,
            "visibility": null,
            "align_self": null,
            "height": null,
            "min_height": null,
            "padding": null,
            "grid_auto_rows": null,
            "grid_gap": null,
            "max_width": null,
            "order": null,
            "_view_module_version": "1.2.0",
            "grid_template_areas": null,
            "object_position": null,
            "object_fit": null,
            "grid_auto_columns": null,
            "margin": null,
            "display": null,
            "left": null
          }
        },
        "e838b76fcd7f4ac4a0dafeacbd2d2e22": {
          "model_module": "@jupyter-widgets/controls",
          "model_name": "SelectionSliderModel",
          "state": {
            "_options_labels": [
              "10",
              "20",
              "50"
            ],
            "_view_name": "SelectionSliderView",
            "style": "IPY_MODEL_facff1bb81f247969af86db4268db140",
            "_dom_classes": [],
            "description": "n0",
            "_model_name": "SelectionSliderModel",
            "orientation": "horizontal",
            "index": 1,
            "_view_module": "@jupyter-widgets/controls",
            "_model_module_version": "1.5.0",
            "_view_count": null,
            "disabled": false,
            "_view_module_version": "1.5.0",
            "continuous_update": true,
            "description_tooltip": null,
            "readout": true,
            "_model_module": "@jupyter-widgets/controls",
            "layout": "IPY_MODEL_0ec78c5e59e74c6aa2aaf79b5ec0e771"
          }
        },
        "96fccb19d0434929abfa260820d2c266": {
          "model_module": "@jupyter-widgets/controls",
          "model_name": "SelectionSliderModel",
          "state": {
            "_options_labels": [
              "10",
              "20",
              "50"
            ],
            "_view_name": "SelectionSliderView",
            "style": "IPY_MODEL_5b34c5550e934d2cb8df6e22614272da",
            "_dom_classes": [],
            "description": "n1",
            "_model_name": "SelectionSliderModel",
            "orientation": "horizontal",
            "index": 1,
            "_view_module": "@jupyter-widgets/controls",
            "_model_module_version": "1.5.0",
            "_view_count": null,
            "disabled": false,
            "_view_module_version": "1.5.0",
            "continuous_update": true,
            "description_tooltip": null,
            "readout": true,
            "_model_module": "@jupyter-widgets/controls",
            "layout": "IPY_MODEL_3ac3a299cfa34ee085282d9f233f3f38"
          }
        },
        "a537e329cba54172a94c5a2b328ef42c": {
          "model_module": "@jupyter-widgets/controls",
          "model_name": "SelectionSliderModel",
          "state": {
            "_options_labels": [
              "10",
              "20",
              "50"
            ],
            "_view_name": "SelectionSliderView",
            "style": "IPY_MODEL_0263e99efdd540549820fb32fe463654",
            "_dom_classes": [],
            "description": "n2",
            "_model_name": "SelectionSliderModel",
            "orientation": "horizontal",
            "index": 1,
            "_view_module": "@jupyter-widgets/controls",
            "_model_module_version": "1.5.0",
            "_view_count": null,
            "disabled": false,
            "_view_module_version": "1.5.0",
            "continuous_update": true,
            "description_tooltip": null,
            "readout": true,
            "_model_module": "@jupyter-widgets/controls",
            "layout": "IPY_MODEL_9af9bb4dd5124bca8b7acbcc9fabca9e"
          }
        },
        "95958bb823294d7aa7bc6d98a7aa3138": {
          "model_module": "@jupyter-widgets/controls",
          "model_name": "SelectionSliderModel",
          "state": {
            "_options_labels": [
              "10",
              "50",
              "200"
            ],
            "_view_name": "SelectionSliderView",
            "style": "IPY_MODEL_bf01f6659e134805a5bb7b0a5e9e7267",
            "_dom_classes": [],
            "description": "m",
            "_model_name": "SelectionSliderModel",
            "orientation": "horizontal",
            "index": 1,
            "_view_module": "@jupyter-widgets/controls",
            "_model_module_version": "1.5.0",
            "_view_count": null,
            "disabled": false,
            "_view_module_version": "1.5.0",
            "continuous_update": true,
            "description_tooltip": null,
            "readout": true,
            "_model_module": "@jupyter-widgets/controls",
            "layout": "IPY_MODEL_91a26707f5fa41c8bfac829456315fc1"
          }
        },
        "f5431dfccf0d47b2a150378df7e193a0": {
          "model_module": "@jupyter-widgets/controls",
          "model_name": "SelectionSliderModel",
          "state": {
            "_options_labels": [
              "0",
              "10",
              "100",
              "1000",
              "2500",
              "5000",
              "10000"
            ],
            "_view_name": "SelectionSliderView",
            "style": "IPY_MODEL_23856b39b5594b5e811997580d929c76",
            "_dom_classes": [],
            "description": "num_iters",
            "_model_name": "SelectionSliderModel",
            "orientation": "horizontal",
            "index": 4,
            "_view_module": "@jupyter-widgets/controls",
            "_model_module_version": "1.5.0",
            "_view_count": null,
            "disabled": false,
            "_view_module_version": "1.5.0",
            "continuous_update": true,
            "description_tooltip": null,
            "readout": true,
            "_model_module": "@jupyter-widgets/controls",
            "layout": "IPY_MODEL_81be8231d9cf46d4a6ffc6d97d8dcae2"
          }
        },
        "6011701919684c5bb8d988ea193560bb": {
          "model_module": "@jupyter-widgets/output",
          "model_name": "OutputModel",
          "state": {
            "_view_name": "OutputView",
            "msg_id": "",
            "_dom_classes": [],
            "_model_name": "OutputModel",
            "outputs": [
              {
                "output_type": "stream",
                "metadata": {
                  "tags": []
                },
                "text": "updating the plot with n0_20_n1_20_n2_20_m_50\n",
                "stream": "stdout"
              },
              {
                "output_type": "display_data",
                "metadata": {
                  "tags": [],
                  "needs_background": "light"
                },
                "image/png": "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\n",
                "text/plain": "<Figure size 432x288 with 1 Axes>"
              },
              {
                "output_type": "display_data",
                "metadata": {
                  "tags": [],
                  "needs_background": "light"
                },
                "image/png": "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\n",
                "text/plain": "<Figure size 432x288 with 1 Axes>"
              },
              {
                "output_type": "display_data",
                "metadata": {
                  "tags": [],
                  "needs_background": "light"
                },
                "image/png": "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\n",
                "text/plain": "<Figure size 432x288 with 1 Axes>"
              },
              {
                "output_type": "stream",
                "metadata": {
                  "tags": []
                },
                "text": "/usr/local/lib/python3.7/dist-packages/ipykernel_launcher.py:10: RuntimeWarning: overflow encountered in exp\n  # Remove the CWD from sys.path while we load stuff.\n",
                "stream": "stderr"
              },
              {
                "output_type": "display_data",
                "metadata": {
                  "tags": [],
                  "needs_background": "light"
                },
                "image/png": "iVBORw0KGgoAAAANSUhEUgAAAagAAAEYCAYAAAAJeGK1AAAABHNCSVQICAgIfAhkiAAAAAlwSFlzAAALEgAACxIB0t1+/AAAADh0RVh0U29mdHdhcmUAbWF0cGxvdGxpYiB2ZXJzaW9uMy4yLjIsIGh0dHA6Ly9tYXRwbG90bGliLm9yZy+WH4yJAAAgAElEQVR4nOy9eZhdVZX3//nee2vOWJlIAgkJhFlkCLPiBIKIqA3KpKJg57XV1pZuB4RXfVHeRlGfbl9pISqK/sLg3AFFGhCcAEmACAQIGYCQkJB5qkqNd/3+2PumblVqOFWpW/feqvV5nvOcc/bZ+5x17q3cb/bea68lM8NxHMdxSo1UsQ1wHMdxnO5wgXIcx3FKEhcox3EcpyRxgXIcx3FKEhcox3EcpyTJFNuAwSKVSllNTU2xzXAcxyk5GhsbzczKrkMybASqpqaGhoaGYpvhOI5TckjaXWwbBkLZKarjOI4zMnCBchzHcUoSFyjHcRynJHGBchzHcUoSFyjHcRynJHGBchzHcUoSFyjHcRynJBnRArVgARx4IKRSYb9gQbEtchzHcXIMm4W6/WXBApg3Dxobw/nLL4dzgEsvLZ5djuM4TkDDJWFhXV2d9SeSxIEHBlECOHjKcrY2jGfzronMnAkvvVQQEx3HcYqCpEYzqyu2Hf1lxA7xrV7dcTymZjv1o7bsVe44juMUjxErUDNmdBxLRkrZvcodx3Gc4jFiBeq666C2NhynlEUyamtDueM4jlN8RqxAXXopzJ8PY8aAFHpRnq3DcZxhSlrSfEnvKrYh/WHEevHlaGkBKUtKWTZvdk8+x3GGJe1mNq/YRvSXEduDArj6apg9YSkXnnwntZW7gOB2fvXVRTbMcRzHGdkCtXo1nHzwo3zmHf/JhFGbO5U7juM4xWVEC9SMGdDUWg1AdUVTp3LHcRynuIxogbruOsgqeEbUVoWMyO7J5ziOUxqMaCeJSy+FaXT0oGbODOLkDhKO4zjFZ0T3oADeckboQZ3xliZeesnFyXEcp1QY8QJFKvSgsm3NRTbEcRzHyaegAiXpbEnLJK2Q9IVurn9M0tOSlkj6i6QjYvmBknbH8iWSbiqYkemcQDX1UdFxHMcZSgo2ByUpDdwInAmsARZJWmhmz+ZVu83Mbor1zwO+DZwdr600s2MKZd8e0jF8hPegHMdxSopC9qBOBFaY2SozawHuAN6dX8HMduSd1gFDn/sj9qDIukA5juOUEoUUqOnAK3nna2JZJyR9QtJK4BvAp/IuzZL0pKQ/Snpjdw+QNE/SYkmL29raBmZl7EEp60N8juM4pUTRnSTM7EYzOwj4PHBNLF4HzDCzY4Ergdskjemm7Xwzm2tmczOZAY5Wxh6UrGVg7R3HcZyCUEiBWgsckHe+fyzriTuA9wCYWbOZbY7HjwMrgUMKYuUegfIhPsdxnFKikAK1CJgjaZakSuAiYGF+BUlz8k7fCSyP5ZOikwWSZgNzgFUFsTJViZlImw/xOY7jlBIF8+IzszZJnwTuBdLALWa2VNK1wGIzWwh8UtIZQCuwFbgsNj8duFZSK5AFPmZmWwpiqESbVZFSC9kspIo+6Ok4juNAgUMdmdnvgN91KftS3vGne2j3S+CXhbQtn3ZqqMo0s7sxS90oVyjHcZxSwH+NgXaqqKpoZtfObLFNcRzHcSIuUEBWtVRVNNPQ4ALlOI5TKrhAAdlUHTUVTTTsai+2KY7jOE7EBQqwVB1VFU00eg/KcRynZHCBAixTR03lbhp2uUA5juP0haTDJd0k6ReS/qlQz3GBAlQxipqKJhobXaAcxxmZSLpF0gZJz3Qp3ysrhZk9Z2YfA94PnFYom/olUJLGSzq6UMYUi1TlKKormmhs8Dkox3FGLD+mI5sE0CkrxTuAI4CL89IinQf8li5LiQaTPgVK0kOSxkiqB54Avi/p24UyqBikq0ZRXdnEbu9BOY4zQjGzPwFdAyL0mJXCzBaa2TuAguUhT7JQd6yZ7ZD0UeAnZvZlSU8VyqBikKkZTWXFbhp2uEA5jjMsyUhanHc+38zmJ2jXXVaKkyS9GfgHoIoC9qCSCFRG0lTCWOPVhTKkmFTUjCKVaaOl0ePxOY4zLGkzs7mDdTMzewh4aLDu1xNJ5qCuJcTTW2lmi2Lw1uWFNWtoSVWOAqCtaUcfNR3HcUYU/c1KMaj02YMys58DP887XwWcX0ijhpzMaACseXuRDXEcxykp9mSlIAjTRcAlQ/XwJE4Sh0h6IOd6KOloSdf01a6sqAgCRasLlOM4w5K0pPmS3tVTBUm3A48Ah0paI+kKM2sDclkpngN+ZmZLh8bkZHNQ3wc+C9wMYGZPSboN+FohDRtSMmGIj7ZtxbXDcRynMLSb2bzeKpjZxT2U75WVYqhIMgdVa2aPdSlrK4QxRSNTB0C6zeegHMdxSoUkArVJ0kGAAUi6AFhXUKuGmtiDSpsP8TmO45QKSYb4PgHMBw6TtBZ4EfhAQa0aaiqCQGVsV5ENcRzHKQhpSfOBu8zsrmIbk5QkXnyrgDMk1QEpM9tZeLOGmOjFl7aGIhviOI5TEPqcgypF+hQoSV/qcg6AmV1bIJuGnspxYZfyHpTjOE6pkGQOqiFvaycEDTwwyc27i4Lb5frHJD0taYmkv+SCEMZrV8V2yySdlehtBkpmFFlLUZ3ZSbbdCvoox3EcJxlJhvi+lX8u6ZsEn/heyYuCeyYhftMiSQvN7Nm8areZ2U2x/nnAt4Gzo1BdBBwJTAPul3SImRUm3LhEi41mdPUuGna1M3pskqk5x3Ecp5AMJB9ULSHcRV/0GAU3h5nl+3XXET0FY707zKzZzF4EVsT7FYw2xlBXtYsdOzzlhuM4w44+F+qWIknmoJ6mQzjSwCRCfL6+6DYKbjf3/wRwJVAJvDWv7aNd2k7vpu08YB5AZWVlApN6pi01llHVDeza0UYI0Os4jjNsGJ5OEsC5ecdtwGsx/MWgYGY3AjdKugS4BrisH23nE1zgqaur26fJo2xqDLWV29m103tQjuM4pUCPAhUTFAJ0dSsfIwkz65rYqiv9jYJ7B/C9AbbdZ6xiLHXVr7JllwuU4zhOKdBbD+pxwtCeurlmwOw+7t1nFFxJc8wsl7rjnXSk8VgI3BYz904D5gBdwy0NKqocS21lg/egHMdxSoQeBcrMZu3Ljc2sTVIuCm4auMXMlkq6FlhsZguBT0o6A2gFthKH92K9nwHPEoYVP1EwD75IqmYcdVUNNOwaXmEGHcdxypVE/tSSxhN6MdW5spi/vle6i4JrZl/KO/50L22vA65LYt9gkKkZT23Vbhp3NA/VIx3HcYaK4RnqSNJHgU8T5oGWACcTcoa8tbd25UZl3ThSMtobtgAzi22O4zjOYFKWXnxJ1kF9GjgBeNnM3gIcCwy7xEkVdcEnxJo3FdkSx3EcB5IJVJOZNQFIqjKz54FDC2vW0KOqEI8v1dqXc6LjOI4zFCSZg1ojaRzwG+A+SVuBlwtrVhGoDD2oTPuGIhviOI7jQLJYfO+Nh1+R9CAwFvh9Qa0qBlUTAagwH+JzHMcpBfoc4pP0HUmnApjZH81sYYytN7yIAlXJ1iIb4jiOM+gMz1h8hAW710g6FPg1IYjr4sKaVQSqJoSdtkG2HVLpIhvkOI4zaAxPLz4zu9XMziF48i0Dvi5peR/Nyo90FU1tddSkt8PghRp0HMdxBkh/0m0cDBxGWCT0fGHMKS4NbeNdoBzHcUqEJHNQ34g9pmuBZ4C5ZlZW45hJWLAA1m6cQFVqO687so0FC4ptkeM4zsgmSQ9qJXCKmZ1tZj8ys2G3SHfBApg3DzZun8CY2h28+mob8+bhIuU4jlNEksxB3QxUSTpV0um5bQhsGzKuvhoaG2HTzomMqd5JRbqVxsZQ7jiO4xSHJLH4riekyngWyEUUN6DPYLHlwurVYb9p10RG1+ykItPSqdxxHMcZepK4mb8XONTMhm2Y7xkz4OWXYeOOidRUNjG2ZhtrmMGMGcW2zHEcZ+SSZA5qFVBRaEOKyXXXQW0tbNwxGYD9xq6ntjaUO47jDAOG7ULdRmCJpAeAPb0oM/tUwawaYi69NOwfvDUI1KEz1vORqzrKHcdxypyyXKibRKAWxm1Yc+mlcMrBU2ElzPvgel5/cbEtchzHGdkkCRZ7q6QaYIaZLRsCm4pGTf00WAlqfg3MQCq2SY7jOCOWJAt130XIpPv7eH6MpGHZoxo9eSoAqdZNHk3CcRynyCRxkvgKcCIxi66ZLQFmF9CmolE3poadu0eRyW6GbGuxzXEcxxnRJBGoVjPb3qUsm+Tmks6WtEzSCklf6Ob6lZKelfSUpAckzcy71i5pSdyGpMcmweaGyVSaC5TjOE6xSeIksVTSJQQ3xTnAp4CH+2okKQ3cCJwJrAEWSVpoZs/mVXuSENuvUdI/Ad8ALozXdpvZMf14l0FhS+Nk9qveCtnhl/LKcRynnEjSg/pn4EiCi/ntwA7gXxK0OxFYYWarYoLDO4B351cwswfNrDGePgrsn9TwQrGtaSq1ma3Q7gLlOI5TTJJ48TUCV8etP0wHXsk7XwOc1Ev9K4B78s6rJS0G2oDrzew3XRtImgfMA6isrOyned2zo3U/aiu2QVvDoNzPcRzHGRhJYvHdRYi9l892YDFws5k17asRkj4AzAXelFc808zWSpoN/EHS02a2Mr+dmc0H5gPU1dV1tXFANGSnUZlugeYNwCGDcUvHcZxik5Y0H7jLzO4qtjFJSRrqaBfw/bjtAHYSfr2/30u7tcABeef7x7JOSDqD0Ds7Lz/en5mtjftVwEPAsQls3Wd2a1o8eKX3io7jOOVDu5nNKydxgmROEqea2Ql553dJWmRmJ0ha2ku7RcAcSbMIwnQRcEl+BUnHAjcDZ5vZhrzy8UCjmTVLmgicRnCgKDgtmTgN1vjqUDzOcRzH6YEkAjVK0gwzWw0gaQYwKl7r0ZPAzNokfRK4F0gDt5jZUknXAovNbCFwQ7zXzxWiNqw2s/OAw4GbJWUJvbzru3j/FYy2yuDpnm1cRyrbDqn0UDzWcRzH6UISgfpX4C+SVgICZgEfl1QH3NpbQzP7HfC7LmVfyjs+o4d2DwOvS2Db4FMXcmy07nyNqmwLpGqKYobjOM5wQNIk4B+BA8nTHDO7vK+2Sbz4fhfXPx0Wi5blOUb8R7+tLXFGja1h867x1DS8FtdCuUA5juPsA/8N/Bm4n46kt4noUaAkvdXM/iDpH7pcOkgSZvar/ttZ+owbB68un87BE17zxbqO4zj7Tq2ZfX4gDXvrQb0J+APQXYIrA4alQI0dC2s2788hM5+C9t3FNsdxHKfcuVvSOXHKp1/0KFBm9uW4/8i+WFZujBsHizbNJJP9A7TuKrY5juM45c6ngS9KagFyQU7NzMb01TBJuo0pkn4o6Z54foSkK/bJ3BJm7Fh4edNM0rRAo6+FchzH2RfMbLSZpcysOh6PTiJOkGyh7o8JruJxBSsvkCwWX1kybhy8uHFWONm1qrjGOI7jDAMknSfpm3E7N2m7JAI10cx+RkyxYWZt9NMTo5wYOxZWbYgCtftVyA7bV3Ucxyk4kq4nDPM9G7dPS/r3JG2TrINqkDSBGI9P0smEWHzDkooKeHXHweGk6TXINkOqtrhGOY7jlC/nAMeYWRZA0q2EVEtX9dUwiUBdCSwkuJf/FZgEXDBwW8uAqnqa2+uo2r0O2psg4wLlOI6zD4wDtsTjsUkbJVmo+4SkNwGHEiJJLDOzYZ1utr5ebGg4gAN2rw0C5TiO4wyUfweelPQgQUNOB/bKsN4dSeagMLM2M1tqZs8Md3ECqK+HNVtnhTmo1h3FNsdxHGdfSUuaL6m7da0FxcxuB04mrJ39JXCKmd2ZpG0igRpp1NfDitcOgaaN0Ly52OY4juPsK0OebkPSYXF/HDCVkLR2DTAtlvVJkjmoEceECfDcK3PgxCzsXA6TTyu2SY7jOOXGlYSM59/q5poBb+3rBkky6gq4FJhtZtfGdBv7mdlj/TS2bKivhycWHxpOGl6C9hZID05KecdxnJGAmc2Lh+/omnldUnWSeyQZ4vsv4BTg4ni+E7gxqZHlSH09LHnxyHCy+1XIuqOE4zjOAHk4YdleJBniO8nMjpP0JICZbZU0rLsT9fXw2vb9yKZHkcp58lUkiszhOI7jAJL2A6YDNTF7uuKlMUCitTtJBKpVUpqOhbqTiFElhiv19QCiJTOD6sY1wZOvenKxzXIcxyknzgI+DOxPmIfKCdQO4ItJbpBEoL4D/BqYLOk6wiLda/praTkxYULY7+Rgqhv/DC3bimuQ4zhOmWFmtwK3SjrfzH45kHv0OQdlZguAzxEWW60D3mNmPx/Iw8qF0IOCTa1HQctW2PVycQ1yHMcpX46XNC53Imm8pK8laZgk3cZ3gHozu9HMvmtmzyW1StLZkpZJWiFpr5XDkq6U9KykpyQ9IGlm3rXLJC2P22VJnzkY5ARqbePR4WDXCo8o4TiOMzDeYWZ7hqHMbCshPl+fJPHiexy4RtLKGCp9bpIbx3mrG4F3AEcAF0s6oku1J4G5ZnY08AvgG7FtPfBl4CTgRODLksYnee5gkBOoVVuOCQcNL3t2XcdxnIGRllSVO5FUA1T1Un8PSYb4bjWzc4ATgGXA1yUtT3DvE4EVZrbKzFqAO4B3d7n3g2bWGE8fJUymQZhcu8/MtkS1vQ84O8kLDQY1NVBVFfNCZUYFgfLsuo7jOANhAfCApCtistv7gFuTNOxPJImDgcOAmUCSYb7pQH5K2jWEHlFPXAHc00vb6V0bSJpHWKlMZeXgeb5LoRe1cXMl1M2CxpehZQvUHTBoz3AcxxkJmNnXJT0FvC0WfdXM7k3SNkkkiW8A7wVWAnfGmw+qW5ukDwBzgTf1p52ZzQfmA9TV1dlg2jRhAmzZAow5BF79PTR5TD7HcZyBYGb30NEBSUySOaiVhOizZ5vZj/ohTmuB/C7H/rGsE5LOAK4GzjOz5v60LST19VGgxr0O2htg95oQ8shxHMdJjKR/iM5u2yXtkLRTUqI0ET0KVC4SLbAImCHpuPwtwb0XAXMkzYqRJy4iJD7Mf8axwM0EcdqQd+le4O3RHXE88PZYNmTsEaj66BOya0UQKsdxHKc/fIPwGz/WzMaY2WgzSxSap7chvn2KRGtmbZI+SRCWNHCLmS2VdC2w2MwWAjcAo4Cfh5i0rDaz88xsi6SvEkQO4Foz29LNYwpGfT0sWgTUHw+kYOcKaN0JlUPmTOg4jjMceK0/y5PykVnvUzeSqruLRNu1rNjU1dVZQ8Pg9XA++1n47ndhd0Mr3HUIVE+BE/4L6hOlMXEcxykZJDWaWV2Rnv2fwH7Ab4DcNA5m9qu+2ibx4nsY6Pqr3F3ZsGLCBGhqgsamCmrHHAabHoWmTWAW3Pwcx3GcJIwBGglTNTmMkGG3V3oUqMGIRFvO5OLxbd4MteNeD+t+D03roL0RMkX5j4jjOE7ZYWYfGWjb3npQ+ZFov51XvpOEkWjLmckxePmGDXDApLh8a+eKsGDXBcpxHCcRkn5EzIaRj5ld3lfbHgVqMCLRljOTJoX9xo3A4SeA0rBrFTRvgpopRbXNcRynjLg777iasK721SQN+5yDMrNfSnoncGS8ea782n4aWVbk96CorIe6mbBzOTRtIHwUjuM4Tl907eBIuh34S5K2SaKZ3wRcCPwzYR7qfYRwR8OaTj2odA2MPRK2L4W2BmjzwLGO44xcJL1H0vcl3Snp7X236MQcIFEG2CSRJE41sw8BW83s/wCnAIf006CyY8wYqKyMAiVB/YnBQaLhRWjbWWzzHMdxBhVJt0jaIOmZLuV7pU0ys9+Y2T8CHyN0YHq7784YQWJHjCBxF/D5JDYlEahcd6FR0jSgFZia5ObljBR6URty8S2mxDCBO5ZB08ai2eU4jlMgfkyXrBEJ0iZdE6/vhaTT4uGkGEEitx2S1K8hiUDdHbMh3gA8AbwE3J7k5uXOpEmxBwUw5jComgw7noem18J6KMdxnPIgI2lx3javawUz+xPQNWJPt2mTFPg6cI+ZPdHDM78T9w8P2Oi+KpjZV+PhLyXdDVSb2faBPrCcmDw5rweVqQvzUNv+HrLr+noox3HKhzYzS5Rstgs9pU36Z+AMYKykg83spm7atkqaD+wfM7N3wsw+1dfDk6Tb+IduyrYDT3cJ8DrsmDQJludSM6ZrYNyRsOHB0INq2e4C5TjOiMTMvkNHD6knziWI2FmEzOz9JkmooysIjhEPxvM3x4fNknStmf10IA8uBzr1oCSYeBq88F3YuQzGHQ2104pqn+M4ToEZcOojM9sE3CHpOTP7+0AenmQOKgMcbmbnm9n5hIkyI3TzEnlilCuTJkFDA+zOuYnUnwgVY2HrU2HBbratqPY5juMkJC1pvqR39bNdn2mT+mKg4gTJBOoAM3st73xDLNtC8OgbtuQW6+5xlKgaB+OOgS2PQbYdWhPl3HIcxyk27WY2z8zu6qlCXED7CHCopDWSrjCzNiCXNuk54GdmtnRoTE42xPdQdI74eTy/IJbVAYOa+r3UyC3W3bABZswAMqOg/ljY+EdoWhuiSlTVF9VGx3GcwcDMLu6h/HfA74bYHCBZD+oTwI+AY+J2K/AJM2sws7cU0rhis1cPKl0Jk6Jr//alsPtVdzd3HMfpBUmfljQmuqb/UNITSaNP9ClQFjIaLgZ+a2afISjpqH0zuTzI70HtYexRULs/bF4E7c3QtqsotjmO45QJl5vZDkI+qPHAB4HrkzRMEovvH4FfADfHoumEzIjDnr16UABVE2Dc62HrE0C7R5VwHKccGKiTxGCQyyV4DvDTOIeVKOtr0iG+04AdAGa2nISB/sqdUaOgqqpLDyozCurnhsW6O1fA7jVFs89xHCchfTpJFJDHJf0PQaDulTQayCZpmESgmmOICwAkZegm+VR3dBdksMv10+N4ZJukC7pca5e0JG79cmscLCTYbz9Yvz6vMFMDE06CVBVseiREN2/1YT7HcZweuAL4AnCCmTUCFUCiLLtJBOqPkr5ISP1+JsGbr08VThBkEGA1IWvvbd3cYreZHRO38xLYWRCmTYNXu6bWGjUT6o+HDX8Ckw/zOY7j9MwpwDIz2ybpA4QAs4nC5SURqC8AG4Gngf9FcJK4JkG7boMM5lcws5fM7CkSdveKwdSpsG5dl8KqiVB/AjSth5aN0PCye/M5jlPKFHMO6nuEbBivB/4VWAn8JEnDJF58WTP7vpm9z8wuiMdJfo27CzI4PYlRkeoYdfdRSe/proKkebnovG1thYnqMHVqNz2oijEw8URAsOlhyO72RbuO45QyxZyDaoua8W7gu2Z2IzA6ScMkXnynSbpP0guSVkl6UdKqfTQ4CTNj9N1LgP+QdFDXCmY238zmmtncTCbJmuP+M20abNuWF+4IIF0dXM3HHgGvPQSpirAmynEcx+nKTklXEdzLfyspRZiH6pMkQ3w/BL4NvAE4AZgb930x4CCDAGa2Nu5XAQ8BxyZtO5hMjakZ9xrmq54agsfueB5atkHDKx6bz3EcZ28uBJoJ66HWE7TghiQNkwjUdjO7x8w2mNnm3Jag3YCDDEoaL6kqHk8kuLk/m6TtYDMtBizfW6AmwuQ3AIL19wPt0JzkY3Ecxxk5RFFaQMgddS7QZGaDMwcFPCjpBkmnSDoutyUwqtsgg5KulXQegKQTJK0B3gfcLCkXhPBwYLGkvxPSfFxvZkURqFwPaq95qMxoqJoC44+FdfdCuhZ2vTjk9jmO45Qykt4PPEb4nX8/8Leuy4p6IsnEzUlxn5+N0YC39tWwuyCDZvalvONFhO5e13YPA69LYFvB6bEHlcrEXtSbYdm3YfdaqBwPrTuhItH8n+M4zlCRjtlt7yqCo8TVhDVQGwAkTQLuJ0Qo6pUkKd+HdUDYvpgwASoquulBQZyHOgleSMO638OsD0HjGhh7+JDb6TiO0wvtZjavSM9Odcm+vplko3fJKo1kpB7WQgFUjQ9DfZNOg7W/C8N8DauhvaWbyo7jOCOS30u6V9KHJX0Y+C0J03e4QCWg27VQENzNK8fB1HOgZXNYEwWwuzs1cxzHGXmY2WeB+cDRcZtvZomysfcoUJLeF/ezBsPIcqbHHhRA7QEhBUfVZHjl11A5FnatDBl3HcdxHMzsl2Z2Zdx+nbRdbz2oq+L+l/tmWvnTbTy+HFUTIJWC/c8LwWObN0G22ePzOY4zopG0U9KObradkhKF3unNSWJzDJE+q7to4sUM4DrUTJ0KW7dCUxNUV3e5mKmBinGw31mw8ofwyq/goCtg1wtQMyVMYjmO44wwzGyf3Zl7E6h3AscBPwW+ta8PKmcOiPEw1qyBgw/upkLtAdC6Haa8OQjU7MuhtSH0ompGROosx3FKm2K6mQ+YHgUqRiB/VNKpZrZR0qhYPuKSH82YEfYvv9yDQFVPhG0GMy+B1x6EV38L094JO1+A6knei3Icp9gU0818wCTx4psi6UlgKfCspMclHVVgu0qKmTPDfvXqHiqkq6F6Mow6GMYcAS/dBumqEOHc56Icx3EGRBKBmg9caWYzzWwGIZ/H/MKaVVpMnx46QT0KFEDdjJB248BLoHE1bPxL8Ojb+TxYyaa7chzHKVmSCFSdmT2YOzGzh4C6gllUglRVhdTvL7/cS6XKelAmhD6qngorbwlp4dsaYPdrQ2Wq4zjOsCGJQK2S9L8lHRi3a4ChyAdVUsyc2UcPKpWG2hnQ3gAHXQ7bnwlu5xVjYcdznorDcRynnyQRqMuBScCvCGuiJsayEcWMGX0IFEDt9LBAd/q5oRe1Yj6kKiHbEkIgOY7jOIlJkvJ9q5l9ysyOM7PjzexfzGzrUBhXSuQEKtvbdFLFKKieEBbq5veiKscHj7623b00dhzHcfLxWHwJmTkTmpthY19OeaMOCmugcr2o5TeCUiE9x45lQ2Kr4zhOF9KS5kt6V7EN6Q8uUAnJrYXqc5ivcjxk6sDa4ZBPBFFa+9sQbaJxrWfddRynGLSb2bxyWqQLLlCJyV+s2ytKweg50LIDpp4VAskuvxHam6BqHGx9yh0mHMdxEtCnQEmaJOmLsXt4S24bCuNKiRVcsRcAACAASURBVD4X6+ZTPSUs1LU2OOzKEED2xZ+EBb3ZFtg14pwgHcdx+k2SlO//DfyZkKJ3xOaQGDcORo+Gl15KUDmVDlEldjwL44+G/c4MAjX9XVCzH+xcEUSscmyhzXYcxylbkgzx1ZrZ583sZzGnxy/NLFEKDklnS1omaYWkL3Rz/XRJT0hqk3RBl2uXSVoet8sSvk/BkOCgg2DFioQNaqdBqgKyrXDop8PQ37PXAwreftv+7kN9juM4vZBEoO6WdE5/bywpDdwIvAM4ArhY0hFdqq0GPgzc1qVtPfBl4CTgRODLksb314bBZs6cfghUKgOjD4GWraHXNOfjIePu+vuCE0VbY+hJOY7jON2SRKA+TRCppphoKmmyqROBFWa2KkZGvwN4d34FM3vJzJ4Cuq4uOgu4z8y2xDVX9wFnJ3hmQTn4YHjxRWhL2vGpmQap6uAgMfP9IZDsc98MQWSrJoS5qKZNBbXZcRynXEmyUHe0maXMrDoejzazMQnuPR14Je98TSxLwr60LRgHHxzEqU9PvhypNIw5HFq2g9Jw1DUhb9Rz3wpDfpVjYduSIGCO4zhOJxK5mUs6T9I343ZuoY1KiqR5khZLWtyWuFszcObMCfvEw3wQsupWjoe2XTDmEJj9kZAvav39wasPBddzj3juOI7TiSRu5tcThvmejdunJf17gnuvBQ7IO98/liUhUVszm29mc81sbiaTxCFx38glK+yXQEkw9ogQXcIMDvpoOF/67yFXVOW44Ibu81GO4zidSNKDOgc408xuMbNbCHNB70zQbhEwR9IsSZXARcDChHbdC7xd0vjoHPH2WFZU9tsP6upg+fJ+NqwcC3UHQsuW4Dxx9FdDvL6nvxJ6TtWTYMdyaFxXAKsdx3GGd6ijcXnHiRbvmFkb8EmCsDwH/MzMlkq6VtJ5AJJOkLQGeB9ws6Slse0W4KsEkVsEXBvLiooUelH96kHlGH1QmHfKtkDdTDj0M7D5b7Dq1lBePQG2LgnzVY7jOINLWYY6kpn1XkG6GLgeeBAQcDrwBTO7s/DmJaeurs4aGhoK/pwLLoBnnoHnnx9A48b1sPWJMC9lBk9dA+vug7nfgYknh2jn2SaYeCpkagfddsdxRiaSGs2s7BLNJvHiux04mY58UKeUmjgNJXPmwKpV/XA1z6dmSlgT1bItdMeOvAZGzYa/Xw2Nr0KmJmTl3bwI2psH3XbHcZxyokeBknRY3B8HTCW4eq8BpsWyEcmhh0JraxCpfpNzmLBsEKBMDRx7Q4h8/uS/hfTwFaNDDL8ti6G9ZdDtdxzHKRd660FdGfff6mb7ZoHtKlmOOirsly4d4A3S1TDu9dC8NQzz1R0Ar78Odq2EJV8I4Y8qx4VIE1ufDKGSHMdxRiA9CpSZzYuH7zCzt+RvBM++Ecnhh4f9M8/sw01qJsPoWR25oSadBkdeFbLvLr0uCFdVfYg4seUJFynHcUYkSbz4Hk5YNiKoq4PZs/dRoCDE6asYBa27wvn+74GD/hHW3gXLvxfKqupD5InNPtznOM7Io8fVrZL2I4QXqpF0LMGDD2AMMKJdzI48ch+G+HKkMjD+GNjwF0hXQqoSDp4HzRth1S1hKPCgy0PMvuatsGUR1B8fo084juMMf3oLv3AWIdL4/oR5p5xA7QC+WFizSpujjoJ77oGWFqis3IcbZepg/LFBfKonhXh9R14VFvEu/69wPvsyqBof1kdtfAQmnBB6Xo7jOMOcHgXKzG4FbpV0ftL8TyOFI48MbuYvvNDhNDFgaiaHgLI7ngtJDJWG130Fsu3wwv8LgWQPnheiUbTtCik7xh8fFvY6juMMY5LMQR0vaU8kiRh+6GsFtKnk2WdPvq6MmgV1s8LwHgSROvpamH4erPw+LP2/wbsvMyr0ujb/DRrWDNLDHcdxSpMkAvUOM9uWO4n5mUasFx+EtVDpNDz99CDdUIKxh4UeVC4/VCoDR/1vmH05rPk1LPlc6E2lq8O81LYlsP250NNyHMcZhiQRqLSkqtyJpBqgqpf6w57qajjiCHj88UG8qVIw7uiQmiPnfi7BIR+HIz4PG/4Miz4eolCkMlC9HzS8FBb0tu0eREMcx3FKgyQCtQB4QNIVkq4gZLe9tbBmlT5z58LixWHJ0qCRykD9sVAxBprzYuPOeB8ccz3seB4e/TDsXBnEq3pymJfa+JeQusNxHGcYkSQW39eB64DD4/ZVM/tGoQ0rdU44ATZt6kd23aSkKmD8cSHkUdPmjvL93gYn3ATtu4NIrf9DKK8cF+elHoPtz4e5KsdxnM6UZbqNPqOZlwtDFc08x+LFQaR+/vMQ4XzQybaG9BvNW6B6Ykd500Z48rOw/RmY9SGY8/HQ87JsGBrMjILxR4demOM4DsM4mrmkkyUtkrRLUoukdkk7hsK4UuZ1r4OKCli0qEAPSFWENVLVU2D3ax1jidWT4KT5sP974cWfwN8uh8Y1MafUJCALG/8aMvS6A4XjOGVMkjmo7wIXA8uBGuCjwI2FNKocqKqC178+9KQKRioTekOjZkPTax3Dd6lKOOrqMC/V8Ar89RJY+9twLVMXvPx2roBNf4WWrQU00HEcp3AkyqhrZiuAtJm1m9mPCGnfRzwnnBAEKpst4EOUCi7oY18XhvDamzqu7XcGnHY7jDkUnv4yPPk5aN4U1lFVTwIUok9se6ZzO8dxnDIgiUA1SqoElkj6hqTPJGw37Dn5ZNixYxAX7PbGqBkx625j57TwNfvBCd+DQz4ZvPn+8n5Ye3cYEszUBk+/3etgw59g18s+7Oc4TtmQRGg+GOt9EmgADgDOL6RR5cKb3hT2Dz00RA+sqodJb4B0TXCWsNh1S2Vg9ofh1NtCRIqnvwKL/xka1wZ39Kp6qBgLO54NIrZ7wyD7xzuO4ww+vXrxSUoDPzGzS4fOpIEx1F58OWbNguOPh1/8Yggfmm2HnctDksPK8ZDOWzdtWVj9c3jhu+F41geDeOWioLc3hR5YZX0YOqwc1+0jHMcZPgxLLz4zawdmxiG+fiPpbEnLJK2Q9IVurldJujNe/5ukA2P5gZJ2S1oSt5sG8vyh4E1vgj/+cYg7JKl0EJcJJ0J7Y0jHkUMpmHkhvPEXMOXNsPIH8Ofz4dXfB8FKV0PNlBAxfePDIddU/pCh4zhOidDnOihJPyEs0F1IGOIDwMy+3Ue7NPACcCawBlgEXGxmz+bV+ThwtJl9TNJFwHvN7MIoVHebWeJY4cXqQf34x/CRj4QEhkceOeSPh/bmEJNv99q9e1MQ1lI9dwPsWBaSJB7ycZh4Whj6g5C1t213cGcffXCImu44zrBiWPagIiuBu2Pd0XlbX5wIrDCzVWbWAtwBvLtLnXfTETbpF8DbpNwvZ3kw5PNQXUlXwfjXQ/3c2Jva3Lk7N/4YOOWncPTXoK0BHv8XeOwfQyp5CAt6qydD246wfmrzY2FxsM9ROY5TZHrLqPtTM/sgsM3M/nMA954OvJJ3vgY4qac6ZtYmaTuQS3Q0S9KThASJ15jZn7uxcR4wD6BynzIHDpwDDwwp4H//e/jEJ4piQugN1UwJPaidL0DD6hAqKRMTHysF084O4ZLW/HdI4fHYvBCcdvZlMOmNQagqxoQU9Jv+BhV1MOrgIF6p3vJaOo7jFIbeelDHS5oGXB5zQNXnbwW2ax0ww8yOBa4EbpO0V+weM5tvZnPNbG4mU5wfUQnOPRfuvx8aG4tiQgfpShh3FEw6BVCIQJFt7bieqoAZF8Dp/w2HfzZ4Aj7xr/DXi4JrerY1ZOutmRzWUm37e4j5t30ZtO4s2ms5jjMy6U2gbgIeAA4DHu+yJYmfsJbgkp5j/1jWbR1JGWAssNnMms1sM4CZPU4YZjwkwTOLwrnnQlMTPPBAsS2JVI6HSaeGHlLrzpBjyvLWP6WrgyPF6b+Go78KpIJr+p/eA6tuDdEn0tWh91Q1DhpXB/f0jQ9D4zpobynWmzmOM4JI4iTxPTP7p37fOAjOC8DbCEK0CLjEzJbm1fkE8Lo8J4l/MLP3S5oEbDGzdkmzgT/Helv2flKgWE4SAC0tMGECXHIJ3HxzUUzomfYWaHg5uKQrFdzKle5cxyyERVr1E9j6BCgDU94KM84PkdVz04Jtu0N6D+KQYs3+4X4+BOg4JU25OkkUNJq5pHOA/wDSwC1mdp2ka4HFZrZQUjXwU+BYYAtwkZmtknQ+cC3QCmSBL5vZXb09q5gCBSGi+SOPwCuvQKoU42y0N4VIEg0vAQreet0Jy65V8MqvQmy/tp1QNxOmvgOmnhmOIQha266Q+oN0iGZRM83FynFKFBeoIlNsgVqwAD7wgbAm6vTTi2ZG37Q3Q+MrsHMVkA2OEV1d0yEI2rr7YO1dsPVJwGDMYTD17bDf24MoQVhb1bYrxvpLh/mrmukhckW6OI4rjuN0xgWqyBRboBoaYMoUuOgi+MEPimZGcrKtwYli53LINkG6NkRC787Lv+k1WH8/rLsXtsdlbONeH3pVk06H2mmhzLLBlb1td7hP5fjYsxrf870dxyk4LlBFptgCBXDZZfCb38D69VBTU1RTkmPZ4BSx6yVo3gCkoHJMSOnRHY1rYN3/hG3XilBWNxMmngoTT4H644KDhVkYAmxrDM9IVYbFwDWTITMaMuXyATlO+eMCVWRKQaDuvx/OPBPuvBPe//6imjIw2naHXlXDi2HILl0Z1lN1darI0fBySOex6WHY8ngIn5SqDI4Vk04JolV3YOg5ZdtC7yrbHNqmcl6CE4Nre7rWe1iOUyBcoIpMKQhUe3tYtDt7Njz4YFFN2TfMoHU77H4VGtYEF/V0VRCSnsSqvSmEVdr4MGx6JIgcQPV+oWc18RSoPzYM90EYYmxrhGwLYMFzsLIeKieEHlymtiPAreM4+4QLVJEpBYECuOEG+Nzn4Mkn4Zhjim3NIJBth9ZtYf1T0zqwtrDgNzMq7Hti97ogVJsegU2PQXv8bmoPCIuJxx0dkjCOPjh4/ll7ELn23THMkoEqQ6qQqgnheZlaSFV5T8tx+okLVJEpFYHatg323x/OPx9uvbXv+mVFtj3E7GvaGHJNZZsAhfxUmdqwzqrbdm2w7WnY9lTcPw0tm8O1dDWMOQLGva5jq5rQ0S7bFIQrmw3CpExwZ68cFz0Fa8KW6qFn5zjOoAtUXJ96NTDWzC4YrPvu9RwXqMHnU5+Cm26CF14IsfqGLbnsvk3rg2jRDqSCA0S6pmfBMgs9rO1PdwjWjmWhdwYxsvohMOaQsB99CNROD/ez9uAqn20OApYjXRNEKzM2xBFMV4felru6O04igZJ0C3AusCE/k4Sks4H/JKxn/YGZXZ937RcuUAkoJYFauxYOPhje9z74yU+Kbc0QkVsP1bI9uKU3byGssVYQi3R174t425uCSOXEaucLYVFxLkRTuhZGzwlDgnUzO7aaqWFeLNvaIVyWBSw8W+kYOHdM2KdrgmilqoJDhw8XOiOAhAJ1OrCLkKT2qFjWa9qkQguUL/svANOnh17UDTfAv/0bHH10sS0aApTqiIhed0CeYO2Elo3QtBmsBVCYu8r1cHICka4OaUPGv77jnu3NIbLFzmWwY3kQrfX3hRxWe55bAbX7R8Ga0Vm8KsYB2SBeza+FBcqWzROlODyZ8yLM1AVnkFRlsDFVGYYUXcScEYCZ/SmXNDaPPWmTACTl0iY9yxDgPagCsXUrHHRQSGL4xz+WaPijoWTPuqiGsO6qeVMUmvj3l6rcW7R6uk/r9tC7algdXN0b477hFbC86O2Z0UGoag+I4ZimQvXUjuNUVRhWzLYEEcu2RXti7wuCLanqKGC5+a7q2AurCJsyYfN5MKdEkdQCPJ1XNN/M5ndT70DyksVKugA428w+Gs8/SEib9GXgOkLP6gdm9u+FsNt7UAVi/Hj49rdDtt3vfa+IuaJKBSk4UmRqoXoScEhwumhvjHNZ24LjRPNmwIIQpTKxR1PVMTwoRSeJY0IyxnysPcxtNbzcWby2/R3W/0/niO4Qelg1UbCqp4Q1WdWToWpysLFqclx03BaGDpsb4nFu7itPyCAMJ6aq4pBmzu5qyFRHAasI75E77mmOznEGnzYzmztYN4vZJj42WPfrCReoAnLZZXDHHfD5z8Nb3gJHHFFsi0qMVBpSo8PcUM2UUGbZjggUrTuDi3vLto71Uij8sKeq8obhcr2ddBjuq90fJp3W+VnWHhw5mtbD7vVByJrWheNdL4VMwm3d9MAzo6BqUodgVU8K55XjOzwJc/tURXiOtULL7iBm1h7nxLpB6dhrjHNie0QtCnJOzJSOx+m4ubA5Q0aStEkFw4f4CszatXD88TBmDCxaBGPHFtuiMiXbGoSrvQlaG6Fte8j+27aLPcOEEIfkKsPcVK7HkpS2RmjaAM0bw9a0IYhac26/MQxNdu2J5UjXhF5Z5dhk+4oxeaLWFnqUewStl3+XSkVR62nLF7OuWyrufV5tJJHUzbybIb4+0yYVEheoIeDPf4a3vhVOOw1+9zuorS22RcMIszD8lvPga28KPa+2hs6hlfagzr2TVEXP0TG6fV57HI7cFnt327vst4U5svx9Wy/ZiFNVe/fEKsd1EbT887GhDRbFLAqatcV9Ttxy/657ECKloojnPouKzp9Hp/m1VOy1pfIErmtZ/rGLX6khqRn4CXBXT6mLJN0OvBmYCLxGSHP0w+7SJg2N1S5QQ8btt8Oll8Lb3gYXXghf+xqsXg0zZsB114VrTgGwbBSvlrC1N4eoFm2NcShxd2fHihx7htUyeT/UA/zhzbYFh5BuBa0HYct3INmLVPA4zIwK+4pRnc/32td1LGjes1XlrRNTFLZsEHxrD8+2bEdUj/4gAdFppNteXKZD5FKZ8D6pDJCO3kQ5kcvt47Au6lLeVz0nh0eSKDKlLlAAP/4xXHFF/A3I+9hra2H+fBepomHRFT3b2iFkOQHLeR62N9HtD/We4bQuc0X7bFN76Anu6anFfeuOOLTZEIY39+y7lGVbkj8rVRlFK3or5o4z+YJWHfe1HcfdXs9tlcFBROoQuT0iSNzHublcr28gYtgTEpDX01OaPULWaS5PdBr6zIncnh5h/rBovvip83Fv15IcF1hQXaCKTDkIFIScURs27F0+cya89NKQm+MkxSwImLV2iFl7S0copvbdsXfWtHePzCzPkSP3Y5fucjzIzg/ZliBUrbtCj7G9KfQW23vaul5vCh6We4576W32Rifxq8lbY5bn5LJnX9n3eTqvTF3O89soz2NSmaAH+XN7ZoSF5BaL8kU0nu8RzC7/oywUe4QrJ5BdhC8zKgRcHtCtXaCKSrkIVCrV89/6MPkqHLMOd3Rryztuj8OMTR09tWxzFLqWnp0vcuT+99/pf/b5//MfAueHbFueIO+OItad+DV1Pm/bHcQ8t+asvTkKfktHzzX3OeTO+yuGPaIuItadQPYmmHll6cogjPnn3Qpk3tDwnn0fc589CmIcdm3dBdPOGtgnkGAOqhRxgRpiDjwQXn557/LKSvjmN0MeqSlThtysPlmwAK6+2ufNCkpO2HLOD9m845y45f+A79nnhLC1H//LUWeBU97/3PdyfigS3Q29ZltjHMaun0FLP+r0dt6LeNLDcoEBIzqvj8tfJ5fZW9xGHwJvuHNgT/IeVDc37yXIYLxeRVD144HNwIVm9lK8dhVwBSEC6afM7N7enlUuArVgAcybB42NHWUVFTB1avjxT6Xg9NPhTW+CN7wBTjoJRo8unr3Qvc0+b9Y9RRfynCffHu++dsJ8T3vn8mxbRy8l2xZ/kNvyzts6xLK/qJthqu7KOs33lAG5z6lbEexSZnmfaf7nm19mPZW35l1vY+OGVl5d28rza2bz+YU/G9DflAtU1xv3EWQw1vk4cLSZfUzSRcB7zexCSUcAtxPiQE0D7gcOMev5X0u5CBT0/CO2dGnw9vvtb+Gpp0KGCQjpOw47DObMCUI2dSrst1/YjxsHo0aFrbZASWl76vX5vFlnhqWQW75zQ7b349x5NremqzVvjVcb0L63+OXc4weMwrRNvidfJ1Hs6uUXz4Fy8Pi7557g8dvcnGVc7TYeWHrmgP6mXKC63lg6BfiKmZ0Vz68CyI/ZJOneWOeRuCBsPTAJ+EJ+3fx6PT2vnAQqCdu3w6OPwuLFsGwZPP88rFwJW7b03EbqEKvKytAzy2TCvrvjVM6pKS/sXHfbwoU9P/N97+vcfiRz112dxSlHbS28612D+6zh9VkbwpCyiCwpBeeFVDyXLO6ze+qlyIKMFFlSakNqJ5XbyJJKtZMinHdcy5Iidx7uIbUjLDpRANHpUIAJlB/NKp7nigz2OCkqVrD4NiDMUtElQ+ENLbXnbTFhhOuhXJipo23cP/QQNDWB1CFQ0P//HJarQBUy1NF04JW88zWEIIPd1jGzNknbgQmx/NEubad3fYCkecA8gMrK4ZX3Z+xYOOussOXT3AyvvQbr1sH69bBjB+zcCbt2hS133NICra3Q1hb2XY+bmjq7u+eOu9sqKkKbrlRUwNNPd7Qf6XQnTrnyJUsG7znD77PO6+kUhZxA5kTRgvjlC+Qeceyok1+eUhRQZUnnBDDVHgQ3ZXsEMq32ILDxejqKZzqVV652Ugo2jaqAURUgGY0tHSv8V6/u90umJc2nzJwkyjoWX4zGOx9CD6rI5gwJVVVhWHDGjKF75rAcuioAvQ2FPv/8kJvjJCYnkBCmy0sEM2bNNla/HMTQrKPbPIB//+1mNm8wzRsKCvlfliRBBvfUiUN8YwnOEkUNUOh05tJLgxjNnBmGNGbOdHHqjuuu2zuMVW1tKHecfiPxta+lqK5J057NkLUgniPpb6qQArUImCNplqRK4CKg62zGQuCyeHwB8AcLk2ILgYskVUmaBcwBHiugrU4fXHppGPPOZsPexWlvXMidwWak/00V2s18ryCDkq4FFpvZQknVwE+BY4EtwEV5mRuvBi4H2oB/MbN7envWcHOScBzHGSzK1UnCF+o6juMMc8pVoMpkhZzjOI6zD6QlzZc0yAseCov3oBzHcYY53oNyHMdxnEHEBcpxHMcpSVygHMdxnJJk2MxBScoCuwfYPENwZx8pjKT3HUnvCiPrfUfSu8K+vW+N5YIBlhHDRqD2BUmLzWxuse0YKkbS+46kd4WR9b4j6V1h5L0v+BCf4ziOU6K4QDmO4zgliQtUYH6xDRhiRtL7jqR3hZH1viPpXWHkva/PQTmO4zilifegHMdxnJLEBcpxHMcpSUa8QEk6W9IySSskfaHY9gwESQdIelDSs5KWSvp0LK+XdJ+k5XE/PpZL0nfiOz8l6bi8e10W6y+XdFlPzyw2ktKSnpR0dzyfJelv8Z3ujDnIiDnF7ozlf5N0YN49rorlyySdVZw36RtJ4yT9QtLzkp6TdMow/24/E/+On5F0u6Tq4fL9SrpF0gZJz+SVDdp3Kel4SU/HNt+RJMoZMxuxGyFP1UpgNlAJ/B04oth2DeA9pgLHxePRwAvAEcA3gC/E8i8AX4/H5wD3EPJcnwz8LZbXA6vifnw8Hl/s9+vhna8EbgPujuc/I+QTA7gJ+Kd4/HHgpnh8EXBnPD4ift9VwKz4d5Au9nv18K63Ah+Nx5XAuOH63QLTgRcJC0tz3+uHh8v3C5wOHAc8k1c2aN8lIbHrybHNPcA7iv3O+/R5FduAIv+xnALcm3d+FXBVse0ahPf6b+BMYBkwNZZNBZbF45uBi/PqL4vXLwZuzivvVK9UNmB/4AHgrcDd8R/jJiDT9XsF7gVOiceZWE9dv+v8eqW0AWPjD7a6lA/X73Y68Er88c3E7/es4fT9Agd2EahB+S7jtefzyjvVK8dtpA/x5f4x5FgTy8qWOMRxLPA3YIqZrYuX1gNT4nFP710un8d/AJ8DsvF8ArDNzHJhYPLt3vNO8fr2WL9c3nUWsBH4URzS/IGkOobpd2tma4FvAquBdYTv63GG7/cLg/ddTo/HXcvLlpEuUMMKSaOAXwL/YmY78q9Z+C9V2a8pkHQusMHMHi+2LUNEhjAk9D0zOxZoIAwD7WG4fLcAcf7l3QRhngbUAWcX1aghZDh9l4PBSBeotcABeef7x7KyQ1IFQZwWmNmvYvFrkqbG61OBDbG8p/cuh8/jNOA8SS8BdxCG+f4TGCcpE+vk273nneL1scBmyuNdIfwveI2Z/S2e/4IgWMPxuwU4A3jRzDaaWSvwK8J3Ply/Xxi873JtPO5aXraMdIFaBMyJHkKVhEnWhUW2qd9ET50fAs+Z2bfzLi0Ech4+lxHmpnLlH4peQicD2+MQw73A2yWNj/+TfXssKxnM7Coz29/MDiR8X38ws0uBB4ELYrWu75r7DC6I9S2WXxS9wGYBcwgTzCWFma0HXpF0aCx6G/Asw/C7jawGTpZUG/+uc+87LL/fyKB8l/HaDkknx8/uQ3n3Kk+KPQlW7I3gKfMCwcvn6mLbM8B3eANhWOApYEncziGMxT8ALAfuB+pjfQE3xnd+Gpibd6/LgRVx+0ix362P934zHV58swk/QCuAnwNVsbw6nq+I12fntb86fgbLKGFvJ+AYYHH8fn9D8Nwatt8t8H+A54FngJ8SPPGGxfcL3E6YW2sl9I6vGMzvEpgbP7eVwHfp4lxTbpuHOnIcx3FKkpE+xOc4juOUKC5QjuM4TkniAuU4juOUJC5QjuM4TkniAuU4juOUJC5QTr+R9HDcHyjpkkG+9xe7e9ZQEtfO3C9piaQLC/ysr0j6t3h8raQzBnifYySdk7DuQ5LmDuQ5g4Gk90g6oljPd8oHFyin35jZqfHwQKBfApUXDaAnOglU3rOGkmPjs48xszv72zjBO3aLmX3JzO4fSFvCWqlEAlUCvIcQbdxxesUFyuk3knbFw+uBN8aexmcUcjTdIGlRzF/zv2L9N0v6s6SFhKgASPqNpMcV8v7Mi2XXAzXxfgvyrPPm/gAABOtJREFUnxVX09+gkCPo6VzPJt77IXXkS1qQy4Ej6XqFHFlPSfpmN+9RH+14StKjko6WNBn4/4AToh0HdWlzQqy/JGdPLP+wpIWS/gA8IGmUpAckPRHtfXfePa6W9IKkvwCH5pX/WNIF8fh4SX+Mn9G96giF85Ckr0t6LN7jjQpRUK4FLuyu1yepRtIdCrmkfg3U5F17u6RHop0/V4jn2O1nJ2mKpF9L+nvcTo3lH4j2LJF0s6R07ruTdF2s+2hsfypwHnBDd5+v43Si2CuFfSu/DdgV928mRnKI5/OAa+JxFSH6waxYrwGYlVc3t1q+hrDyfUL+vbt51vnAfYQcXlMIIXGmxntvJ8QdSwGPECJrTCBEEMgtRh/XzXv8P+DL8fitwJLu3qtLm2foSO9wPTFtAiFn0Zq898oAY+LxRMKKfwHHE6IC1AJjYvm/xXo/JoTrqQAeBibF8guBW+LxQ8C34vE5wP15z/9uDzZfmdf+aKCNEHFgIvAnoC5e+zzwpZ4+O+BOQiBi4vcwFjgcuAuoiOX/BXwoHhvwrnj8jby/jR8DFxT779i30t8GNBThOD3wduDoXC+A8AM2B2gBHjOzF/PqfkrSe+PxAbHe5l7u/QbgdjNrJwTX/CNwArAj3nsNgKQlhKHHR4Em4IcKWXfv7uGe5wOY2R8kTZA0picDJI0DRpvZI7HoNuDcvCr3mdmWXHXg/0o6nZAWZDpBWN8I/NrMGuM9u4v9eChwFHBf7AymCeFxcuSCAT8e37UvTge+E9/zKUlPxfKTCUNtf43PqSQI/Ha6/+zeSojvRvwetkv6IEF0F8V71NAR7LQlr+3jhBxljpMYFyhnMBHwz2bWKQippDcTelD552cQeiKNkh4ixFQbKM15x+2ExHZtkk4kBBu9APgk4Qe2kDTkHV8KTAKON7NWhejr/397d+8aRRDGcfz7I1ol4aoUVjYiIQoWChJsTC2ChYViaZUqpFAMpBAr/QvEl8ZCtLMRX1EhCtoYuIhvpa0GFNIZwmPxzOp5uT0TD3HR36fcmb2bmWWZnXmGmY3WUcDriJisSa/qu8Zg77DITvX4uoSNt52AaxEx1yNtNSKqvdQGLav9hxyDskGskEfMV+4D08qjP5C0U3m4XrcW8Ll0TuPkl3xltbq/y1MyxjIkaYwcFdTuTl1iKa2IuAPMAntqfvNEyX8QWI6uc7Q6RcQXYEXS/nLpWF1eso4fS+c0BWwv1xeAIyUuNAoc7nHve2BM0mQp21ZJu/r8F6x/Fp0WKItZJO0mp/kgR5kHJO0oacPlmdW13SNguuQdktQq146W2F0V16vq+jtlNfvOHZQNYglYK0HwWeAquQhisSweuETvr+Z7wBZJb8k4zouOtMvAksoiiQ63yv+1gcfA6cijKOqMArfLdNYzMg7T7Sywt+Q5z48jD/o5CVwpU4nD5HRYL9eBfZJekdNi7wAiYpGM5bSBu+SRLz+JiK/kyOWCpDa5O/2vVjM+ASZ6LZIALgIjpb3PkdNtRMQnMnZ1o7TBc2Cc+rabAaZKnV4CExHxBpgHHpT8D8nYYD83gVPKE4K9SMJqeTdzs02QNBIR1crCM8C2iJj5y8Uy+yd5Tthscw5JmiPfnQ/kCMTM/gCPoMzMrJEcgzIzs0ZyB2VmZo3kDsrMzBrJHZSZmTWSOygzM2ukbzueCrFNqZVSAAAAAElFTkSuQmCC\n",
                "text/plain": "<Figure size 432x288 with 2 Axes>"
              }
            ],
            "_view_module": "@jupyter-widgets/output",
            "_model_module_version": "1.0.0",
            "_view_count": null,
            "_view_module_version": "1.0.0",
            "layout": "IPY_MODEL_615b30f923994d1cbe5108a133d4a3c1",
            "_model_module": "@jupyter-widgets/output"
          }
        },
        "facff1bb81f247969af86db4268db140": {
          "model_module": "@jupyter-widgets/controls",
          "model_name": "DescriptionStyleModel",
          "state": {
            "_view_name": "StyleView",
            "_model_name": "DescriptionStyleModel",
            "description_width": "",
            "_view_module": "@jupyter-widgets/base",
            "_model_module_version": "1.5.0",
            "_view_count": null,
            "_view_module_version": "1.2.0",
            "_model_module": "@jupyter-widgets/controls"
          }
        },
        "0ec78c5e59e74c6aa2aaf79b5ec0e771": {
          "model_module": "@jupyter-widgets/base",
          "model_name": "LayoutModel",
          "state": {
            "_view_name": "LayoutView",
            "grid_template_rows": null,
            "right": null,
            "justify_content": null,
            "_view_module": "@jupyter-widgets/base",
            "overflow": null,
            "_model_module_version": "1.2.0",
            "_view_count": null,
            "flex_flow": null,
            "width": null,
            "min_width": null,
            "border": null,
            "align_items": null,
            "bottom": null,
            "_model_module": "@jupyter-widgets/base",
            "top": null,
            "grid_column": null,
            "overflow_y": null,
            "overflow_x": null,
            "grid_auto_flow": null,
            "grid_area": null,
            "grid_template_columns": null,
            "flex": null,
            "_model_name": "LayoutModel",
            "justify_items": null,
            "grid_row": null,
            "max_height": null,
            "align_content": null,
            "visibility": null,
            "align_self": null,
            "height": null,
            "min_height": null,
            "padding": null,
            "grid_auto_rows": null,
            "grid_gap": null,
            "max_width": null,
            "order": null,
            "_view_module_version": "1.2.0",
            "grid_template_areas": null,
            "object_position": null,
            "object_fit": null,
            "grid_auto_columns": null,
            "margin": null,
            "display": null,
            "left": null
          }
        },
        "5b34c5550e934d2cb8df6e22614272da": {
          "model_module": "@jupyter-widgets/controls",
          "model_name": "DescriptionStyleModel",
          "state": {
            "_view_name": "StyleView",
            "_model_name": "DescriptionStyleModel",
            "description_width": "",
            "_view_module": "@jupyter-widgets/base",
            "_model_module_version": "1.5.0",
            "_view_count": null,
            "_view_module_version": "1.2.0",
            "_model_module": "@jupyter-widgets/controls"
          }
        },
        "3ac3a299cfa34ee085282d9f233f3f38": {
          "model_module": "@jupyter-widgets/base",
          "model_name": "LayoutModel",
          "state": {
            "_view_name": "LayoutView",
            "grid_template_rows": null,
            "right": null,
            "justify_content": null,
            "_view_module": "@jupyter-widgets/base",
            "overflow": null,
            "_model_module_version": "1.2.0",
            "_view_count": null,
            "flex_flow": null,
            "width": null,
            "min_width": null,
            "border": null,
            "align_items": null,
            "bottom": null,
            "_model_module": "@jupyter-widgets/base",
            "top": null,
            "grid_column": null,
            "overflow_y": null,
            "overflow_x": null,
            "grid_auto_flow": null,
            "grid_area": null,
            "grid_template_columns": null,
            "flex": null,
            "_model_name": "LayoutModel",
            "justify_items": null,
            "grid_row": null,
            "max_height": null,
            "align_content": null,
            "visibility": null,
            "align_self": null,
            "height": null,
            "min_height": null,
            "padding": null,
            "grid_auto_rows": null,
            "grid_gap": null,
            "max_width": null,
            "order": null,
            "_view_module_version": "1.2.0",
            "grid_template_areas": null,
            "object_position": null,
            "object_fit": null,
            "grid_auto_columns": null,
            "margin": null,
            "display": null,
            "left": null
          }
        },
        "0263e99efdd540549820fb32fe463654": {
          "model_module": "@jupyter-widgets/controls",
          "model_name": "DescriptionStyleModel",
          "state": {
            "_view_name": "StyleView",
            "_model_name": "DescriptionStyleModel",
            "description_width": "",
            "_view_module": "@jupyter-widgets/base",
            "_model_module_version": "1.5.0",
            "_view_count": null,
            "_view_module_version": "1.2.0",
            "_model_module": "@jupyter-widgets/controls"
          }
        },
        "9af9bb4dd5124bca8b7acbcc9fabca9e": {
          "model_module": "@jupyter-widgets/base",
          "model_name": "LayoutModel",
          "state": {
            "_view_name": "LayoutView",
            "grid_template_rows": null,
            "right": null,
            "justify_content": null,
            "_view_module": "@jupyter-widgets/base",
            "overflow": null,
            "_model_module_version": "1.2.0",
            "_view_count": null,
            "flex_flow": null,
            "width": null,
            "min_width": null,
            "border": null,
            "align_items": null,
            "bottom": null,
            "_model_module": "@jupyter-widgets/base",
            "top": null,
            "grid_column": null,
            "overflow_y": null,
            "overflow_x": null,
            "grid_auto_flow": null,
            "grid_area": null,
            "grid_template_columns": null,
            "flex": null,
            "_model_name": "LayoutModel",
            "justify_items": null,
            "grid_row": null,
            "max_height": null,
            "align_content": null,
            "visibility": null,
            "align_self": null,
            "height": null,
            "min_height": null,
            "padding": null,
            "grid_auto_rows": null,
            "grid_gap": null,
            "max_width": null,
            "order": null,
            "_view_module_version": "1.2.0",
            "grid_template_areas": null,
            "object_position": null,
            "object_fit": null,
            "grid_auto_columns": null,
            "margin": null,
            "display": null,
            "left": null
          }
        },
        "bf01f6659e134805a5bb7b0a5e9e7267": {
          "model_module": "@jupyter-widgets/controls",
          "model_name": "DescriptionStyleModel",
          "state": {
            "_view_name": "StyleView",
            "_model_name": "DescriptionStyleModel",
            "description_width": "",
            "_view_module": "@jupyter-widgets/base",
            "_model_module_version": "1.5.0",
            "_view_count": null,
            "_view_module_version": "1.2.0",
            "_model_module": "@jupyter-widgets/controls"
          }
        },
        "91a26707f5fa41c8bfac829456315fc1": {
          "model_module": "@jupyter-widgets/base",
          "model_name": "LayoutModel",
          "state": {
            "_view_name": "LayoutView",
            "grid_template_rows": null,
            "right": null,
            "justify_content": null,
            "_view_module": "@jupyter-widgets/base",
            "overflow": null,
            "_model_module_version": "1.2.0",
            "_view_count": null,
            "flex_flow": null,
            "width": null,
            "min_width": null,
            "border": null,
            "align_items": null,
            "bottom": null,
            "_model_module": "@jupyter-widgets/base",
            "top": null,
            "grid_column": null,
            "overflow_y": null,
            "overflow_x": null,
            "grid_auto_flow": null,
            "grid_area": null,
            "grid_template_columns": null,
            "flex": null,
            "_model_name": "LayoutModel",
            "justify_items": null,
            "grid_row": null,
            "max_height": null,
            "align_content": null,
            "visibility": null,
            "align_self": null,
            "height": null,
            "min_height": null,
            "padding": null,
            "grid_auto_rows": null,
            "grid_gap": null,
            "max_width": null,
            "order": null,
            "_view_module_version": "1.2.0",
            "grid_template_areas": null,
            "object_position": null,
            "object_fit": null,
            "grid_auto_columns": null,
            "margin": null,
            "display": null,
            "left": null
          }
        },
        "23856b39b5594b5e811997580d929c76": {
          "model_module": "@jupyter-widgets/controls",
          "model_name": "DescriptionStyleModel",
          "state": {
            "_view_name": "StyleView",
            "_model_name": "DescriptionStyleModel",
            "description_width": "",
            "_view_module": "@jupyter-widgets/base",
            "_model_module_version": "1.5.0",
            "_view_count": null,
            "_view_module_version": "1.2.0",
            "_model_module": "@jupyter-widgets/controls"
          }
        },
        "81be8231d9cf46d4a6ffc6d97d8dcae2": {
          "model_module": "@jupyter-widgets/base",
          "model_name": "LayoutModel",
          "state": {
            "_view_name": "LayoutView",
            "grid_template_rows": null,
            "right": null,
            "justify_content": null,
            "_view_module": "@jupyter-widgets/base",
            "overflow": null,
            "_model_module_version": "1.2.0",
            "_view_count": null,
            "flex_flow": null,
            "width": null,
            "min_width": null,
            "border": null,
            "align_items": null,
            "bottom": null,
            "_model_module": "@jupyter-widgets/base",
            "top": null,
            "grid_column": null,
            "overflow_y": null,
            "overflow_x": null,
            "grid_auto_flow": null,
            "grid_area": null,
            "grid_template_columns": null,
            "flex": null,
            "_model_name": "LayoutModel",
            "justify_items": null,
            "grid_row": null,
            "max_height": null,
            "align_content": null,
            "visibility": null,
            "align_self": null,
            "height": null,
            "min_height": null,
            "padding": null,
            "grid_auto_rows": null,
            "grid_gap": null,
            "max_width": null,
            "order": null,
            "_view_module_version": "1.2.0",
            "grid_template_areas": null,
            "object_position": null,
            "object_fit": null,
            "grid_auto_columns": null,
            "margin": null,
            "display": null,
            "left": null
          }
        },
        "615b30f923994d1cbe5108a133d4a3c1": {
          "model_module": "@jupyter-widgets/base",
          "model_name": "LayoutModel",
          "state": {
            "_view_name": "LayoutView",
            "grid_template_rows": null,
            "right": null,
            "justify_content": null,
            "_view_module": "@jupyter-widgets/base",
            "overflow": null,
            "_model_module_version": "1.2.0",
            "_view_count": null,
            "flex_flow": null,
            "width": null,
            "min_width": null,
            "border": null,
            "align_items": null,
            "bottom": null,
            "_model_module": "@jupyter-widgets/base",
            "top": null,
            "grid_column": null,
            "overflow_y": null,
            "overflow_x": null,
            "grid_auto_flow": null,
            "grid_area": null,
            "grid_template_columns": null,
            "flex": null,
            "_model_name": "LayoutModel",
            "justify_items": null,
            "grid_row": null,
            "max_height": null,
            "align_content": null,
            "visibility": null,
            "align_self": null,
            "height": null,
            "min_height": null,
            "padding": null,
            "grid_auto_rows": null,
            "grid_gap": null,
            "max_width": null,
            "order": null,
            "_view_module_version": "1.2.0",
            "grid_template_areas": null,
            "object_position": null,
            "object_fit": null,
            "grid_auto_columns": null,
            "margin": null,
            "display": null,
            "left": null
          }
        }
      }
    }
  },
  "cells": [
    {
      "cell_type": "markdown",
      "metadata": {
        "id": "view-in-github",
        "colab_type": "text"
      },
      "source": [
        "<a href=\"https://colab.research.google.com/github/RiaStevens/rmt-research/blob/main/RMT_Sim_Plots.ipynb\" target=\"_parent\"><img src=\"https://colab.research.google.com/assets/colab-badge.svg\" alt=\"Open In Colab\"/></a>"
      ]
    },
    {
      "cell_type": "markdown",
      "metadata": {
        "id": "cvp0i6k4TbV6"
      },
      "source": [
        "# Imports"
      ]
    },
    {
      "cell_type": "code",
      "metadata": {
        "id": "qAgzpeLVKx66"
      },
      "source": [
        "import numpy as np\n",
        "import itertools\n",
        "import matplotlib.pyplot as plt\n",
        "from google.colab import files, drive\n",
        "import numpy.linalg as npla\n",
        "from scipy.optimize import curve_fit\n",
        "import json\n",
        "from ipywidgets import widgets, interactive\n",
        "from IPython.utils import io\n",
        "\n",
        "data_dir = \"/content/drive/MyDrive/NNH Project/Full Data/\""
      ],
      "execution_count": null,
      "outputs": []
    },
    {
      "cell_type": "markdown",
      "metadata": {
        "id": "PHqLgpUzNw00"
      },
      "source": [
        "# Setting up Environment"
      ]
    },
    {
      "cell_type": "code",
      "metadata": {
        "id": "ZBUNsBdmxVEg",
        "colab": {
          "base_uri": "https://localhost:8080/"
        },
        "outputId": "cdc270fb-37b7-4ff5-ada5-de03062ac906"
      },
      "source": [
        "from google.colab import drive\n",
        "drive.mount('/content/drive', force_remount=True)"
      ],
      "execution_count": null,
      "outputs": [
        {
          "output_type": "stream",
          "text": [
            "Mounted at /content/drive\n"
          ],
          "name": "stdout"
        }
      ]
    },
    {
      "cell_type": "code",
      "metadata": {
        "id": "7KkOQLMBLfQt",
        "colab": {
          "base_uri": "https://localhost:8080/"
        },
        "outputId": "457717a3-2ece-4f76-8647-872f8f487f26"
      },
      "source": [
        "%cd $data_dir"
      ],
      "execution_count": null,
      "outputs": [
        {
          "output_type": "stream",
          "text": [
            "/content/drive/MyDrive/NNH Project/Full Data\n"
          ],
          "name": "stdout"
        }
      ]
    },
    {
      "cell_type": "code",
      "metadata": {
        "id": "VYbe36p0vxpe",
        "colab": {
          "base_uri": "https://localhost:8080/"
        },
        "outputId": "ac34d2dc-3215-41ab-f84e-42ff4f004d2a"
      },
      "source": [
        "# in case directory is lost\n",
        "\"\"\"\n",
        "import os\n",
        "path = \"/content\" # /content is pretty much the root\n",
        "os.chdir(path)\n",
        "\"\"\""
      ],
      "execution_count": null,
      "outputs": [
        {
          "output_type": "execute_result",
          "data": {
            "application/vnd.google.colaboratory.intrinsic+json": {
              "type": "string"
            },
            "text/plain": [
              "'\\nimport os\\npath = \"/content\" # /content is pretty much the root\\nos.chdir(path)\\n'"
            ]
          },
          "metadata": {
            "tags": []
          },
          "execution_count": 4
        }
      ]
    },
    {
      "cell_type": "markdown",
      "metadata": {
        "id": "vUgi7TIHTfmg"
      },
      "source": [
        "# Key Function Definitions"
      ]
    },
    {
      "cell_type": "markdown",
      "metadata": {
        "id": "TpvLUcpVO3ma"
      },
      "source": [
        "## Simulation Definitions (unnecessary to run)"
      ]
    },
    {
      "cell_type": "code",
      "metadata": {
        "id": "XCnq5ldILjTb"
      },
      "source": [
        "def gradient_descent(W1, W2, x, y, num_iters, step, prop, e, id):\n",
        "  (n2, n1) = W2.shape\n",
        "  (n0, m) = x.shape\n",
        "\n",
        "  losses = np.empty(0)\n",
        "  for j in range(num_iters):\n",
        "    if j in [0, 10, 100, 1000, 2500, 5000, 10000]:\n",
        "      %mkdir 'iters_{j}'\n",
        "      %cd 'iters_{j}'\n",
        "      string = f'id_{id}'\n",
        "      save_to_file(W1, W2, string)\n",
        "      %cd '..'\n",
        "\n",
        "    G1, G2 = gradient(x, W2, e, prop)\n",
        "    W1 = W1 - G1 * step\n",
        "    W2 = W2 - G2 * step\n",
        "    \n",
        "    z = W1 @ x\n",
        "    prop = np.maximum(z, np.zeros_like(z))\n",
        "    y_hat = W2 @ prop\n",
        "    e = y_hat - y\n",
        "\n",
        "    loss = npla.norm(e) ** 2 / (2 * m)\n",
        "    losses = np.append(losses, loss)\n",
        "    \n",
        "  return W1, W2, losses, e, prop"
      ],
      "execution_count": null,
      "outputs": []
    },
    {
      "cell_type": "markdown",
      "metadata": {
        "id": "3zYTcVvXPC9m"
      },
      "source": [
        "## Analysis Definitions"
      ]
    },
    {
      "cell_type": "code",
      "metadata": {
        "id": "k6_AZxvvMcc9"
      },
      "source": [
        "def hessian(W1, W2, x, y, l, l0):\n",
        "  (n2, n1) = W2.shape\n",
        "  (n0, m) = x.shape\n",
        "\n",
        "  z = W1 @ x\n",
        "  prop = np.maximum(z, np.zeros_like(z))\n",
        "  y_hat = W2 @ prop\n",
        "  e = y_hat - y \n",
        "\n",
        "  def compute_H0():\n",
        "    J_1 = np.tensordot(W2, x, axes=0)\n",
        "    for a, u in itertools.product(range(n1), range(m)):\n",
        "      if prop[a, u] == 0:\n",
        "        J_1[0:n2, a, 0:n0, u] = 0\n",
        "\n",
        "    J_2 = np.tensordot(np.ones((n2, n2)), prop, axes=0)\n",
        "\n",
        "    H_0_tl = np.einsum('xaby,xcdy->abcd', J_1, J_1)\n",
        "    H_0_tl_flat = H_0_tl.reshape((n1 * n0, n1 * n0))\n",
        "\n",
        "    H_0_tr = np.einsum('xaby,xcdy->abcd', J_1, J_2)\n",
        "    H_0_tr_flat = H_0_tr.reshape((n1 * n0, n1 * n2))\n",
        "\n",
        "    H_0_bl = np.einsum('xcdy,xaby->cdab', J_2, J_1)\n",
        "    H_0_bl_flat = H_0_bl.reshape((n1 * n2, n1 * n0))\n",
        "\n",
        "    H_0_br = np.einsum('xaby,xcdy->abcd', J_2, J_2)\n",
        "    H_0_br_flat = H_0_br.reshape((n1 * n2, n1 * n2))\n",
        "\n",
        "    H_0 = np.block([[H_0_tl_flat, H_0_tr_flat], [H_0_bl_flat, H_0_br_flat]])\n",
        "    return H_0\n",
        "\n",
        "  def compute_H1():\n",
        "    H_1_tl = np.zeros((n1 * n0, n1 * n0))\n",
        "\n",
        "    H_1_tr = np.zeros((n0 * n1, n1 * n2))\n",
        "    for q, p in itertools.product(range(n0 * n1), range(n1 * n2)):\n",
        "      a = int(q / n0)\n",
        "      b = q % n0\n",
        "      c = int(p / n1)\n",
        "      d = p % n1\n",
        "\n",
        "      if a == d:\n",
        "        e_masked = np.where(prop[a] > 0, e[c], 0)\n",
        "        H_1_tr[q][p] = e_masked @ x[b]\n",
        "\n",
        "    H_1_br = np.zeros((n1 * n2, n1 * n2))\n",
        "\n",
        "    H_1_bl = H_1_tr.transpose()\n",
        "\n",
        "    H_1 = np.block([[H_1_tl, H_1_tr], [H_1_bl, H_1_br]])\n",
        "    return H_1 / m * np.sqrt(l / l0)\n",
        "\n",
        "  H0, H1 = compute_H0(), compute_H1()\n",
        "  H = H0 + H1\n",
        "\n",
        "  return H0, H1, H"
      ],
      "execution_count": null,
      "outputs": []
    },
    {
      "cell_type": "markdown",
      "metadata": {
        "id": "aqHdSrtMOpsP"
      },
      "source": [
        "## Plot Definitions"
      ]
    },
    {
      "cell_type": "code",
      "metadata": {
        "id": "3k1uZONR-Iy0"
      },
      "source": [
        "def load_data_from_full(string, iters):\n",
        "  dir_name = data_dir + string\n",
        "  print(\"dir_name: \" + dir_name)\n",
        "  %cd $dir_name\n",
        "\n",
        "  H0_eigs_arr, H1_eigs_arr, H_eigs_arr = np.empty(0), np.empty(0), np.empty(0)\n",
        "  loss_array = np.empty((10, 10002))\n",
        "\n",
        "  for i in range(0, 10):\n",
        "    %cd 'id_{i}'\n",
        "\n",
        "    losses_str = f'id_{i}_losses.json'\n",
        "    with open(losses_str, 'r') as f:\n",
        "      losses = np.array(json.load(f))\n",
        "    loss_array[i] = losses\n",
        "\n",
        "    x_str = f'id_{i}_x.json'\n",
        "    with open(x_str, 'r') as f:\n",
        "      x = np.array(json.load(f))\n",
        "\n",
        "    y_str = f'id_{i}_y.json'\n",
        "    with open(y_str, 'r') as f:\n",
        "      y = np.array(json.load(f))\n",
        "     \n",
        "    %cd 'iters_{iters}'\n",
        "\n",
        "    W1_str = f'id_{i}_W1.json'\n",
        "    with open(W1_str, 'r') as f:\n",
        "      W1 = np.array(json.load(f))\n",
        "    \n",
        "    W2_str = f'id_{i}_W2.json'\n",
        "    with open(W2_str, 'r') as f:\n",
        "      W2 = np.array(json.load(f))\n",
        "\n",
        "    H0, H1, H = hessian(W1, W2, x, y, losses[iters], losses[0])\n",
        "    eigs_H0, eigs_H1, eigs_H = npla.eigvalsh(H0), npla.eigvalsh(H1), npla.eigvalsh(H)\n",
        "\n",
        "    H0_eigs_arr = np.concatenate((H0_eigs_arr, eigs_H0), axis=None)\n",
        "    H1_eigs_arr = np.concatenate((H1_eigs_arr, eigs_H1), axis=None)\n",
        "    H_eigs_arr = np.concatenate((H_eigs_arr, eigs_H), axis=None)\n",
        "\n",
        "    %cd '../..'\n",
        "\n",
        "  %cd $data_dir\n",
        "  return H0_eigs_arr, H1_eigs_arr, H_eigs_arr, loss_array"
      ],
      "execution_count": null,
      "outputs": []
    },
    {
      "cell_type": "code",
      "metadata": {
        "id": "5DVe-OwhGAaO"
      },
      "source": [
        "def plot_losses(losses, phi, num_iters):\n",
        "  if num_iters == 0:\n",
        "    mean_losses = np.average(losses[0], axis=0)\n",
        "    std_losses = np.std(losses[0], axis=0)\n",
        "    ci = 1.96 * std_losses / np.sqrt(3)\n",
        "\n",
        "    set_up_plot()\n",
        "    plt.scatter([0], mean_losses, label='$\\phi$ = '+ str(round(phi, 1)))\n",
        "    plt.legend()\n",
        "    plt.show()\n",
        "\n",
        "  else:\n",
        "    mean_losses = np.average(losses[:num_iters], axis = 0)\n",
        "    std_losses = np.std(losses[:num_iters], axis=0)\n",
        "    ci = 1.96 * std_losses / np.sqrt(3)\n",
        "  \n",
        "    set_up_plot()\n",
        "    plt.plot(np.arange(1, len(mean_losses) + 1), mean_losses, label='$\\phi$ = '+ str(round(phi, 1)))\n",
        "    plt.fill_between(np.arange(1, len(mean_losses) + 1), mean_losses + ci, mean_losses - ci, alpha=.2)\n",
        "    plt.legend()\n",
        "    plt.show()"
      ],
      "execution_count": null,
      "outputs": []
    },
    {
      "cell_type": "code",
      "metadata": {
        "id": "BwxqRSod93oZ"
      },
      "source": [
        "def plot_eigs(H0_eigs, H1_eigs, H_eigs, phi):\n",
        "  plt.title(\"H0's Eigenvalues\")\n",
        "  plt.ylabel('Density')\n",
        "  plt.xlabel('Eigenvalue')\n",
        "  plt.hist(H0_eigs[(abs(H0_eigs) < 100) & (abs(H0_eigs) > 0.01)], bins=50, ec='black')\n",
        "  #plt.savefig(string + 'phi_' + str(round(phi, 1)) + '.png')\n",
        "  #files.download(string + 'phi_' + str(round(phi, 1)) + '.png')\n",
        "  plt.show()\n",
        "  \n",
        "  plt.title(\"H1's Eigenvalues\")\n",
        "  plt.ylabel('Density')\n",
        "  plt.xlabel('Eigenvalue')\n",
        "  plt.hist(H1_eigs[(abs(H1_eigs) < 100) & (abs(H1_eigs) > 0.0001)], bins=50, ec='black')\n",
        "  #plt.savefig(string + 'phi_' + str(round(phi, 1)) + '.png')\n",
        "  #files.download(string + 'phi_' + str(round(phi, 1)) + '.png')\n",
        "  plt.show()\n",
        "\n",
        "  plt.title(\"H's Eigenvalues\")\n",
        "  plt.ylabel('Density')\n",
        "  plt.xlabel('Eigenvalue')\n",
        "  plt.hist(H_eigs[(abs(H_eigs) < 100) & (abs(H_eigs) > 0.0001)], bins=50, ec='black')\n",
        "  #plt.savefig(string + 'phi_' + str(round(phi, 1)) + '.png')\n",
        "  #files.download(string + 'phi_' + str(round(phi, 1)) + '.png')\n",
        "  plt.show()"
      ],
      "execution_count": null,
      "outputs": []
    },
    {
      "cell_type": "code",
      "metadata": {
        "id": "Y7i0WsJ8m9BA"
      },
      "source": [
        "def plot_negs_evol(H_eigs_dict, losses):\n",
        "  perc_dict = {}\n",
        "  for (num_iters, H_eigs) in H_eigs_dict.items():\n",
        "    perc = len(H_eigs[H_eigs < -0.001]) / len(H_eigs)\n",
        "    perc_dict[num_iters] = perc\n",
        "  \n",
        "  fig, ax1 = plt.subplots()\n",
        "\n",
        "  def func(x, a, b):\n",
        "      return np.log(a * np.exp(-b * x) + 1) # log(a*(e^-bx)+1)\n",
        "  \n",
        "  xnew = np.linspace(min(list(perc_dict.keys())), max(list(perc_dict.keys())), 200) \n",
        "  paras, pcov = curve_fit(func, list(perc_dict.keys()), list(perc_dict.values()))\n",
        "  a = paras[0]\n",
        "  b = paras[1]\n",
        "\n",
        "  ynew = func(xnew, *paras)\n",
        "  ax1.plot(xnew, ynew, color='blue')\n",
        "  ax1.scatter(list(perc_dict.keys()), list(perc_dict.values()), color='blue')\n",
        "  ax1.set_ylabel('fraction of negative eigenvalues')\n",
        "  plt.xlabel('iterations of gradient descent')\n",
        "  \n",
        "  mean_losses = np.average(losses[:num_iters], axis = 0)\n",
        "  std_losses = np.std(losses[:num_iters], axis=0)\n",
        "  ci = 1.96 * std_losses / np.sqrt(3)\n",
        "  ax2 = ax1.twinx()\n",
        "  ax2.set_yscale('log')\n",
        "  ax2.plot(np.arange(1, len(mean_losses) + 1), mean_losses, color='orange')\n",
        "  ax2.fill_between(np.arange(1, len(mean_losses) + 1), mean_losses + ci, mean_losses - ci, alpha=.2, color='orange')\n",
        "  ax2.set_ylabel('loss function')\n",
        "  \n",
        "\n",
        "  fig.tight_layout()\n",
        "  plt.show()"
      ],
      "execution_count": null,
      "outputs": []
    },
    {
      "cell_type": "markdown",
      "metadata": {
        "id": "h2laXbryLr2L"
      },
      "source": [
        "# Plotting"
      ]
    },
    {
      "cell_type": "code",
      "metadata": {
        "colab": {
          "base_uri": "https://localhost:8080/",
          "height": 1000,
          "referenced_widgets": [
            "de0c2eda0b78422ba2600c7858b93272",
            "22b61535a65d4671acc5b71a53667a3d",
            "e838b76fcd7f4ac4a0dafeacbd2d2e22",
            "96fccb19d0434929abfa260820d2c266",
            "a537e329cba54172a94c5a2b328ef42c",
            "95958bb823294d7aa7bc6d98a7aa3138",
            "f5431dfccf0d47b2a150378df7e193a0",
            "6011701919684c5bb8d988ea193560bb",
            "facff1bb81f247969af86db4268db140",
            "0ec78c5e59e74c6aa2aaf79b5ec0e771",
            "5b34c5550e934d2cb8df6e22614272da",
            "3ac3a299cfa34ee085282d9f233f3f38",
            "0263e99efdd540549820fb32fe463654",
            "9af9bb4dd5124bca8b7acbcc9fabca9e",
            "bf01f6659e134805a5bb7b0a5e9e7267",
            "91a26707f5fa41c8bfac829456315fc1",
            "23856b39b5594b5e811997580d929c76",
            "81be8231d9cf46d4a6ffc6d97d8dcae2",
            "615b30f923994d1cbe5108a133d4a3c1"
          ]
        },
        "id": "kCi0k8N0xHrH",
        "outputId": "a3fe1f8d-fc70-4add-c4b1-ad20e9b6b78f"
      },
      "source": [
        "n0_widget = widgets.SelectionSlider(options=[10, 20, 50], \n",
        "                             value=20, \n",
        "                             description='n0', \n",
        "                             disabled=False, \n",
        "                             continuous_update=True, \n",
        "                             orientation='horizontal', \n",
        "                             readout=True)\n",
        "n1_widget = widgets.SelectionSlider(options=[10, 20, 50], \n",
        "                             value=20, \n",
        "                             description='n1', \n",
        "                             disabled=False, \n",
        "                             continuous_update=True, \n",
        "                             orientation='horizontal', \n",
        "                             readout=True)\n",
        "n2_widget = widgets.SelectionSlider(options=[10, 20, 50], \n",
        "                             value=20, \n",
        "                             description='n2', \n",
        "                             disabled=False, \n",
        "                             continuous_update=True, \n",
        "                             orientation='horizontal', \n",
        "                             readout=True)\n",
        "m_widget = widgets.SelectionSlider(options=[10, 50, 200], \n",
        "                             value=50, \n",
        "                             description='m', \n",
        "                             disabled=False, \n",
        "                             continuous_update=True, \n",
        "                             orientation='horizontal', \n",
        "                             readout=True)\n",
        "num_iters_widget = widgets.SelectionSlider(options=[0, 10, 100, 1000, 2500, 5000, 10000], \n",
        "                             value=2500, \n",
        "                             description='num_iters', \n",
        "                             disabled=False, \n",
        "                             continuous_update=True, \n",
        "                             orientation='horizontal', \n",
        "                             readout=True)\n",
        "\n",
        "def plot_it(n0, n1, n2, m, num_iters):\n",
        "  string = f'n0_{n0}_n1_{n1}_n2_{n2}_m_{m}'\n",
        "  print('updating the plot with ' + string)\n",
        "  iters_list = [0, 10, 100, 1000, 2500, 5000, 10000]\n",
        "  H_eigs_dict = {} \n",
        "  H0_eigs, H1_eigs, H_eigs = None, None, None\n",
        "  for iters in sorted(iters_list):\n",
        "    with io.capture_output() as captured:\n",
        "      H0_eigsi, H1_eigsi, H_eigsi, losses = load_data_from_full(string, iters)\n",
        "    if iters == num_iters:\n",
        "      H0_eigs, H1_eigs, H_eigs = H0_eigsi, H1_eigsi, H_eigsi\n",
        "    H_eigs_dict[iters] = H_eigsi\n",
        "  phi = ((n0 + n2) * n1) / (n2 * m)\n",
        "  #plot_losses(losses, phi, num_iters)\n",
        "  plot_eigs(H0_eigs, H1_eigs, H_eigs, phi)\n",
        "  plot_negs_evol(H_eigs_dict, losses)\n",
        "\n",
        "interactive(plot_it, n0=n0_widget, n1=n1_widget, n2=n2_widget, m=m_widget, num_iters=num_iters_widget)"
      ],
      "execution_count": null,
      "outputs": [
        {
          "output_type": "display_data",
          "data": {
            "application/vnd.jupyter.widget-view+json": {
              "model_id": "de0c2eda0b78422ba2600c7858b93272",
              "version_minor": 0,
              "version_major": 2
            },
            "text/plain": [
              "interactive(children=(SelectionSlider(description='n0', index=1, options=(10, 20, 50), value=20), SelectionSli…"
            ]
          },
          "metadata": {
            "tags": []
          }
        }
      ]
    }
  ]
}